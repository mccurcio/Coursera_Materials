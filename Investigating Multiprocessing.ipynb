{
 "cells": [
  {
   "cell_type": "code",
   "execution_count": 1,
   "metadata": {
    "ExecuteTime": {
     "end_time": "2020-07-30T17:08:21.836222Z",
     "start_time": "2020-07-30T17:08:01.802714Z"
    }
   },
   "outputs": [
    {
     "name": "stdout",
     "output_type": "stream",
     "text": [
      "0 squared results in a/an zero number\n",
      "1 squared results in a/an odd number\n",
      "2 squared results in a/an even number\n",
      "3 squared results in a/an odd number\n",
      "4 squared results in a/an even number\n",
      "5 squared results in a/an odd number\n",
      "6 squared results in a/an even number\n",
      "7 squared results in a/an odd number\n",
      "8 squared results in a/an even number\n",
      "9 squared results in a/an odd number\n",
      "That took 20.024498224258423 seconds\n"
     ]
    }
   ],
   "source": [
    "import time\n",
    "\n",
    "def basic_func(x):\n",
    "    if x == 0:\n",
    "        return 'zero'\n",
    "    elif x%2 == 0:\n",
    "        return 'even'\n",
    "    else:\n",
    "        return 'odd'\n",
    "    \n",
    "starttime = time.time()\n",
    "for i in range(0,10):\n",
    "    y = i*i\n",
    "    time.sleep(2)\n",
    "    print('{} squared results in a/an {} number'.format(i, basic_func(y)))\n",
    "    \n",
    "print('That took {} seconds'.format(time.time() - starttime))"
   ]
  },
  {
   "cell_type": "code",
   "execution_count": 3,
   "metadata": {
    "ExecuteTime": {
     "end_time": "2020-07-30T17:09:02.920957Z",
     "start_time": "2020-07-30T17:08:56.571776Z"
    }
   },
   "outputs": [
    {
     "name": "stdout",
     "output_type": "stream",
     "text": [
      "0 squared results in a/an zero number\n",
      "1 squared results in a/an odd number\n",
      "2 squared results in a/an even number\n",
      "3 squared results in a/an odd number\n",
      "4 squared results in a/an even number5 squared results in a/an odd number\n",
      "\n",
      "6 squared results in a/an even number\n",
      "7 squared results in a/an odd number\n",
      "8 squared results in a/an even number\n",
      "9 squared results in a/an odd number\n",
      "14 squared results in a/an even number\n",
      "15 squared results in a/an odd number\n",
      "16 squared results in a/an even number\n",
      "10 squared results in a/an even number11 squared results in a/an odd number13 squared results in a/an odd number\n",
      "\n",
      "\n",
      "17 squared results in a/an odd number\n",
      "12 squared results in a/an even number\n",
      "20 squared results in a/an even number\n",
      "21 squared results in a/an odd number\n",
      "22 squared results in a/an even number18 squared results in a/an even number\n",
      "\n",
      "23 squared results in a/an odd number24 squared results in a/an even number\n",
      "\n",
      "25 squared results in a/an odd number26 squared results in a/an even number19 squared results in a/an odd number27 squared results in a/an odd number\n",
      "\n",
      "\n",
      "28 squared results in a/an even number29 squared results in a/an odd number\n",
      "\n",
      "30 squared results in a/an even number31 squared results in a/an odd number\n",
      "\n",
      "\n",
      "32 squared results in a/an even number\n",
      "33 squared results in a/an odd number34 squared results in a/an even number\n",
      "\n",
      "35 squared results in a/an odd number\n",
      "36 squared results in a/an even number\n",
      "39 squared results in a/an odd number38 squared results in a/an even number37 squared results in a/an odd number\n",
      "\n",
      "\n",
      "40 squared results in a/an even number41 squared results in a/an odd number\n",
      "\n",
      "42 squared results in a/an even number\n",
      "43 squared results in a/an odd number\n",
      "44 squared results in a/an even number\n",
      "45 squared results in a/an odd number\n",
      "46 squared results in a/an even number\n",
      "48 squared results in a/an even number47 squared results in a/an odd number\n",
      "\n",
      "50 squared results in a/an even number49 squared results in a/an odd number\n",
      "\n",
      "51 squared results in a/an odd number52 squared results in a/an even number\n"
     ]
    }
   ],
   "source": [
    "import time\n",
    "import multiprocessing \n",
    "\n",
    "def basic_func(x):\n",
    "    if x == 0:\n",
    "        return 'zero'\n",
    "    elif x%2 == 0:\n",
    "        return 'even'\n",
    "    else:\n",
    "        return 'odd'\n",
    "\n",
    "def multiprocessing_func(x):\n",
    "    y = x*x\n",
    "    time.sleep(2)\n",
    "    print('{} squared results in a/an {} number'.format(x, basic_func(y)))\n",
    "    \n",
    "if __name__ == '__main__':\n",
    "    starttime = time.time()\n",
    "    processes = []\n",
    "    for i in range(0,1000):\n",
    "        p = multiprocessing_func.Process(target=multiprocessing_func, args=(i,))\n",
    "        processes.append(p)\n",
    "        p.start()\n",
    "        \n",
    "    for process in processes:\n",
    "        process.join()\n",
    "        \n",
    "    print('That took {} seconds'.format(time.time() - starttime))"
   ]
  },
  {
   "cell_type": "code",
   "execution_count": null,
   "metadata": {},
   "outputs": [],
   "source": []
  }
 ],
 "metadata": {
  "kernelspec": {
   "display_name": "Python 3 (ipykernel)",
   "language": "python",
   "name": "python3"
  },
  "language_info": {
   "codemirror_mode": {
    "name": "ipython",
    "version": 3
   },
   "file_extension": ".py",
   "mimetype": "text/x-python",
   "name": "python",
   "nbconvert_exporter": "python",
   "pygments_lexer": "ipython3",
   "version": "3.8.8"
  },
  "toc": {
   "base_numbering": 1,
   "nav_menu": {},
   "number_sections": true,
   "sideBar": true,
   "skip_h1_title": false,
   "title_cell": "Table of Contents",
   "title_sidebar": "Contents",
   "toc_cell": false,
   "toc_position": {},
   "toc_section_display": true,
   "toc_window_display": false
  },
  "varInspector": {
   "cols": {
    "lenName": 16,
    "lenType": 16,
    "lenVar": 40
   },
   "kernels_config": {
    "python": {
     "delete_cmd_postfix": "",
     "delete_cmd_prefix": "del ",
     "library": "var_list.py",
     "varRefreshCmd": "print(var_dic_list())"
    },
    "r": {
     "delete_cmd_postfix": ") ",
     "delete_cmd_prefix": "rm(",
     "library": "var_list.r",
     "varRefreshCmd": "cat(var_dic_list()) "
    }
   },
   "types_to_exclude": [
    "module",
    "function",
    "builtin_function_or_method",
    "instance",
    "_Feature"
   ],
   "window_display": false
  }
 },
 "nbformat": 4,
 "nbformat_minor": 4
}
