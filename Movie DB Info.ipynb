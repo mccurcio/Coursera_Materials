{
 "cells": [
  {
   "cell_type": "markdown",
   "metadata": {},
   "source": [
    "https://www.themoviedb.org/documentation/api\n",
    "\n",
    "https://www.themoviedb.org/"
   ]
  },
  {
   "cell_type": "markdown",
   "metadata": {},
   "source": [
    "Hi MattCurcio,\n",
    "\n",
    "Your request for an API key has been approved. You can start using this key immediately.\n",
    "\n",
    "**API Key:** fdeee1a87d6d380f5c319f07d91df92e\n",
    "\n",
    "An example request looks like:\n",
    "\n",
    "https://api.themoviedb.org/3/movie/550?api_key=fdeee1a87d6d380f5c319f07d91df92e\n"
   ]
  },
  {
   "cell_type": "markdown",
   "metadata": {},
   "source": [
    "Useful Links\n",
    "\n",
    "1. Documentation: https://www.themoviedb.org/documentation/api\n",
    "1. Support forum: https://www.themoviedb.org/talk/category/5047958519c29526b50017d6\n",
    "1. Wrappers & libraries: https://www.themoviedb.org/documentation/api/wrappers-libraries\n",
    "\n",
    "If you have any questions, feel free to create a new discussion in our support forum.\n",
    "\n",
    "The Movie Database Team  \n",
    "https://www.themoviedb.org\n",
    "\n",
    "Facebook: https://www.facebook.com/themoviedb  \n",
    "Twitter: https://twitter.com/themoviedb  \n",
    "Blog: https://blog.themoviedb.org  "
   ]
  },
  {
   "cell_type": "markdown",
   "metadata": {},
   "source": [
    "## Start Code Portion"
   ]
  },
  {
   "cell_type": "code",
   "execution_count": null,
   "metadata": {},
   "outputs": [],
   "source": []
  }
 ],
 "metadata": {
  "kernelspec": {
   "display_name": "Python 3 (ipykernel)",
   "language": "python",
   "name": "python3"
  },
  "language_info": {
   "codemirror_mode": {
    "name": "ipython",
    "version": 3
   },
   "file_extension": ".py",
   "mimetype": "text/x-python",
   "name": "python",
   "nbconvert_exporter": "python",
   "pygments_lexer": "ipython3",
   "version": "3.8.8"
  }
 },
 "nbformat": 4,
 "nbformat_minor": 4
}
