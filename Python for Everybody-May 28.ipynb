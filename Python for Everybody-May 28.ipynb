{
 "cells": [
  {
   "cell_type": "markdown",
   "id": "4149afea",
   "metadata": {},
   "source": [
    "Python for Everybody\n",
    "Regular Expressions: Practical Applications\n",
    "\n",
    "https://www.freecodecamp.org/learn/scientific-computing-with-python/python-for-everybody/regular-expressions-practical-applications"
   ]
  },
  {
   "cell_type": "code",
   "execution_count": 38,
   "id": "98d8d643",
   "metadata": {},
   "outputs": [
    {
     "name": "stdout",
     "output_type": "stream",
     "text": [
      "14\n",
      "24\n",
      "gmail.com\n"
     ]
    }
   ],
   "source": [
    "# finding internet host name/address using string slicing\n",
    "\n",
    "data = \"matt.curcio.ri@gmail.com is my address\"\n",
    "\n",
    "at_pos = data.find('@')\n",
    "\n",
    "print(at_pos)\n",
    "\n",
    "sp_pos = data.find(' ', at_pos)\n",
    "\n",
    "print(sp_pos)\n",
    "\n",
    "host = data[at_pos+1 : sp_pos]\n",
    "\n",
    "print(host)"
   ]
  },
  {
   "cell_type": "code",
   "execution_count": 39,
   "id": "cad00ddb",
   "metadata": {},
   "outputs": [
    {
     "name": "stdout",
     "output_type": "stream",
     "text": [
      "['matt.curcio.ri@gmail.com', 'is', 'my', 'address']\n",
      "matt.curcio.ri@gmail.com\n",
      "gmail.com\n"
     ]
    }
   ],
   "source": [
    "# double split pattern\n",
    "\n",
    "data = \"matt.curcio.ri@gmail.com is my address\"\n",
    "\n",
    "words = data.split()\n",
    "print(words)\n",
    "     \n",
    "email = words[0]\n",
    "print(email)\n",
    "\n",
    "pieces = email.split('@')\n",
    "\n",
    "print(pieces[1])"
   ]
  },
  {
   "cell_type": "code",
   "execution_count": 40,
   "id": "82faa290",
   "metadata": {},
   "outputs": [
    {
     "name": "stdout",
     "output_type": "stream",
     "text": [
      "['gmail.com', 'gmail.com']\n",
      "['gmail.com']\n"
     ]
    }
   ],
   "source": [
    "# Regex version\n",
    "\n",
    "import re # regex\n",
    "\n",
    "data = \"From matt.curcio.ri@gmail.com is my address \\n mockrun@gmail.com is tan other email.\"\n",
    "\n",
    "y = re.findall('@([^ ]*)', data)\n",
    "# search for '@' then '[^ ]' (match not space characters) then * (match many or all)\n",
    "\n",
    "print(y)\n",
    "\n",
    "# HOWEVER if we want to pick ONLY particular lines then add\n",
    "# use the '^' caret to induicate the begining.\n",
    "\n",
    "z = re.findall('^From .*@([^ ]*)', data)\n",
    "# search for '@' then '[^ ]' (match not space characters) then * (match many or all)\n",
    "\n",
    "print(z)\n"
   ]
  },
  {
   "cell_type": "code",
   "execution_count": 41,
   "id": "d936f312",
   "metadata": {},
   "outputs": [
    {
     "name": "stdout",
     "output_type": "stream",
     "text": [
      "Max:  0.95984\n"
     ]
    }
   ],
   "source": [
    "# Spam Confidence\n",
    "\n",
    "# This ditty looks for line that have 'X-DSpam-Confidence: 0.0000'\n",
    "# then extract the trailing number.\n",
    "\n",
    "import re \n",
    "\n",
    "hand = open('test-file.txt')\n",
    "numlist = list()\n",
    "\n",
    "for line in hand:\n",
    "    line = line.rstrip()\n",
    "    stuff = re.findall('^X-DSpam-Confidence: ([0-9.]+)', line)\n",
    "    if len(stuff) != 1: \n",
    "        continue\n",
    "    num = float(stuff[0])\n",
    "    numlist.append(num)\n",
    "print('Max: ', max(numlist))\n",
    "        "
   ]
  },
  {
   "cell_type": "markdown",
   "id": "beec769d",
   "metadata": {},
   "source": [
    "Q. What Python library gives access to TCP Sockets?\n",
    "\n",
    "https://en.wikipedia.org/wiki/List_of_TCP_and_UDP_port_numbers"
   ]
  },
  {
   "cell_type": "code",
   "execution_count": 16,
   "id": "10bd77ad",
   "metadata": {},
   "outputs": [],
   "source": [
    "import socket"
   ]
  },
  {
   "cell_type": "code",
   "execution_count": 17,
   "id": "65a9071e",
   "metadata": {},
   "outputs": [],
   "source": [
    "import http"
   ]
  },
  {
   "cell_type": "code",
   "execution_count": 18,
   "id": "658a16d8",
   "metadata": {},
   "outputs": [
    {
     "ename": "ModuleNotFoundError",
     "evalue": "No module named 'tcp'",
     "output_type": "error",
     "traceback": [
      "\u001b[0;31m---------------------------------------------------------------------------\u001b[0m",
      "\u001b[0;31mModuleNotFoundError\u001b[0m                       Traceback (most recent call last)",
      "\u001b[0;32m<ipython-input-18-b1314a905bfc>\u001b[0m in \u001b[0;36m<module>\u001b[0;34m\u001b[0m\n\u001b[0;32m----> 1\u001b[0;31m \u001b[0;32mimport\u001b[0m \u001b[0mtcp\u001b[0m\u001b[0;34m\u001b[0m\u001b[0;34m\u001b[0m\u001b[0m\n\u001b[0m",
      "\u001b[0;31mModuleNotFoundError\u001b[0m: No module named 'tcp'"
     ]
    }
   ],
   "source": [
    "import tcp"
   ]
  },
  {
   "cell_type": "code",
   "execution_count": 19,
   "id": "4a78a996",
   "metadata": {},
   "outputs": [
    {
     "ename": "ModuleNotFoundError",
     "evalue": "No module named 'port'",
     "output_type": "error",
     "traceback": [
      "\u001b[0;31m---------------------------------------------------------------------------\u001b[0m",
      "\u001b[0;31mModuleNotFoundError\u001b[0m                       Traceback (most recent call last)",
      "\u001b[0;32m<ipython-input-19-f45dccbae093>\u001b[0m in \u001b[0;36m<module>\u001b[0;34m\u001b[0m\n\u001b[0;32m----> 1\u001b[0;31m \u001b[0;32mimport\u001b[0m \u001b[0mport\u001b[0m\u001b[0;34m\u001b[0m\u001b[0;34m\u001b[0m\u001b[0m\n\u001b[0m",
      "\u001b[0;31mModuleNotFoundError\u001b[0m: No module named 'port'"
     ]
    }
   ],
   "source": [
    "import port"
   ]
  },
  {
   "cell_type": "code",
   "execution_count": 20,
   "id": "63ac6843",
   "metadata": {},
   "outputs": [
    {
     "name": "stdout",
     "output_type": "stream",
     "text": [
      "HTTP/1.1 200 OK\r\n",
      "Date: Fri, 28 May 2021 19:51:50 GMT\r\n",
      "Server: Apache/2.4.18 (Ubuntu)\r\n",
      "Last-Modified: Sat, 13 May 2017 11:22:22 GMT\r\n",
      "ETag: \"a7-54f6609245537\"\r\n",
      "Accept-Ranges: bytes\r\n",
      "Content-Length: 167\r\n",
      "Cache-Control: max-age=0, no-cache, no-store, must-revalidate\r\n",
      "Pragma: no-cache\r\n",
      "Expires: Wed, 11 Jan 1984 05:00:00 GMT\r\n",
      "Connection: close\r\n",
      "Content-Type: text/plain\r\n",
      "\r\n",
      "But soft what light through yonder window breaks\n",
      "It is the east and Juliet is the sun\n",
      "Arise fair sun and kill the envious moon\n",
      "Who is already sick and pale with grief\n"
     ]
    }
   ],
   "source": [
    "# What does the following code create?:\n",
    "\n",
    "import socket\n",
    "\n",
    "mysock = socket.socket(socket.AF_INET, socket.SOCK_STREAM)\n",
    "mysock.connect(('data.pr4e.org', 80))\n",
    "cmd = 'GET http://data.pr4e.org/romeo.txt HTTP/1.0\\r\\n\\r\\n'.encode()\n",
    "mysock.send(cmd)\n",
    "\n",
    "while True:\n",
    "    data = mysock.recv(512)\n",
    "    if len(data) < 1:\n",
    "        break\n",
    "    print(data.decode(),end='')\n",
    "mysock.close()"
   ]
  },
  {
   "cell_type": "markdown",
   "id": "b3a51af5",
   "metadata": {},
   "source": [
    "Q. Which type of encoding do most websites use?\n",
    "\n",
    "\n",
    "UTF-8\n",
    "\n",
    "https://www.w3schools.com/charsets/ref_html_utf8.asp"
   ]
  },
  {
   "cell_type": "code",
   "execution_count": 21,
   "id": "836340a1",
   "metadata": {},
   "outputs": [
    {
     "name": "stdout",
     "output_type": "stream",
     "text": [
      "But soft what light through yonder window breaks\n",
      "It is the east and Juliet is the sun\n",
      "Arise fair sun and kill the envious moon\n",
      "Who is already sick and pale with grief\n"
     ]
    }
   ],
   "source": [
    "# What will the output of the following code be like?:\n",
    "\n",
    "import urllib.request\n",
    "fhand = urllib.request.urlopen('http://data.pr4e.org/romeo.txt')\n",
    "for line in fhand:\n",
    "    print(line.decode().strip())\n",
    "\n",
    "# contents of \"romeo.txt\""
   ]
  },
  {
   "cell_type": "markdown",
   "id": "8ee49b3f",
   "metadata": {},
   "source": [
    "#### Networking: Web Scraping with Python\n",
    "\n",
    "More resources:\n",
    "\n",
    "[Exercise: socket1](https://www.youtube.com/watch?v=dWLdI143W-g)\n",
    "\n",
    "[Exercise: urllib](https://www.youtube.com/watch?v=8yis2DvbBkI)\n",
    "\n",
    "[Exercise: urllinks](https://www.youtube.com/watch?v=g9flPDG9nnY)"
   ]
  },
  {
   "cell_type": "markdown",
   "id": "7fca8ad4",
   "metadata": {},
   "source": [
    "##### What Python library is used for parsing HTML documents \n",
    "##### and extracting data from HTML documents?\n",
    "\n",
    "[BeautifulSoup](https://pypi.org/project/beautifulsoup4/)"
   ]
  },
  {
   "cell_type": "markdown",
   "id": "972fa881",
   "metadata": {},
   "source": [
    "#### Using Web Services\n",
    "\n",
    "Q. What are the two most common ways to send data over the internet?\n",
    "\n",
    "A. JSON and XML"
   ]
  },
  {
   "cell_type": "code",
   "execution_count": 34,
   "id": "4ebebe58",
   "metadata": {},
   "outputs": [
    {
     "ename": "SyntaxError",
     "evalue": "invalid syntax (<ipython-input-34-638beb2c1422>, line 7)",
     "output_type": "error",
     "traceback": [
      "\u001b[0;36m  File \u001b[0;32m\"<ipython-input-34-638beb2c1422>\"\u001b[0;36m, line \u001b[0;32m7\u001b[0m\n\u001b[0;31m    <person>\u001b[0m\n\u001b[0m    ^\u001b[0m\n\u001b[0;31mSyntaxError\u001b[0m\u001b[0;31m:\u001b[0m invalid syntax\n"
     ]
    }
   ],
   "source": [
    "# Section: Web Services: XML\n",
    "\n",
    "# What is wrong with the following XML?:\n",
    "\n",
    "# We have: Start tags, End tags, Text content, Attribute(s), Self-closing tag\n",
    "\n",
    "<person>\n",
    "  <name>Chuck</name>\n",
    "  <phone type=\"intl\"> +1 734 303 4456</email hide=\"yes\">\n",
    "</person>\n",
    "\n",
    "# A. Phone tag is missing closing tag."
   ]
  },
  {
   "cell_type": "markdown",
   "id": "5f4d7481",
   "metadata": {},
   "source": [
    "#### Web Services: XML Schema\n",
    "\n",
    "Q. What is XSD?\n",
    "\n",
    "A. The W3C Schema specification for XML.\n",
    "\n",
    "https://www.w3schools.com/XML/schema_howto.asp"
   ]
  },
  {
   "cell_type": "code",
   "execution_count": 36,
   "id": "e9375c5f",
   "metadata": {},
   "outputs": [
    {
     "name": "stdout",
     "output_type": "stream",
     "text": [
      "Mrugesh\n"
     ]
    }
   ],
   "source": [
    "# Web Services: JSON\n",
    "\n",
    "# Q. What will the following code print?:\n",
    "\n",
    "import json\n",
    "data = '''\n",
    "  [\n",
    "    { \"id\" : \"001\",\n",
    "      \"x\" : \"2\",\n",
    "     \"name\" : \"Quincy\"\n",
    "    } ,\n",
    "    { \"id\" : \"009\",\n",
    "      \"x\" : \"7\",\n",
    "      \"name\" : \"Mrugesh\"\n",
    "    }\n",
    "  ]\n",
    "'''\n",
    "info = json.loads(data)\n",
    "print(info[1]['name'])"
   ]
  },
  {
   "cell_type": "markdown",
   "id": "81857b0b",
   "metadata": {},
   "source": [
    "#### Web Services: Service Oriented Approach\n",
    "\n",
    "Q. With a services oriented approach to developing web apps, where is the data located?\n",
    "\n",
    "A. Spread across many computer systems connected via the internet or internal network."
   ]
  },
  {
   "cell_type": "markdown",
   "id": "7daa969a",
   "metadata": {},
   "source": [
    "#### Web Services: APIs\n",
    "\n",
    "Q. What does API stand for?\n",
    "\n",
    "A. Application Program Interface"
   ]
  },
  {
   "cell_type": "markdown",
   "id": "11928972",
   "metadata": {},
   "source": [
    "#### Web Services: API Rate Limiting and Security\n",
    "\n",
    "More resources:\n",
    "https://www.freecodecamp.org/learn/scientific-computing-with-python/python-for-everybody/web-services-api-rate-limiting-and-security\n",
    "\n",
    "[Exercise: GeoJSON]()\n",
    "\n",
    "[Exercise: JSON]()\n",
    "\n",
    "[Exercise: Twitter]()\n",
    "\n",
    "[Exercise: XML]()\n",
    "\n",
    "Q. When making a request from the Twitter API, what information must always be sent with the request?\n",
    "\n",
    "A. key"
   ]
  },
  {
   "cell_type": "markdown",
   "id": "1e6079db",
   "metadata": {},
   "source": [
    "#### Python Objects\n",
    "\n",
    "Q. Which is NOT true about objects in Python?\n",
    "A. Objects are one of the five standard data types.\n",
    "\n",
    "Think of a program as:\n",
    "\n",
    "Input -> Process -> Output\n",
    "\n",
    "Words to understand:\n",
    "1. Class = 'template'\n",
    "2. Method or message\n",
    "3. Field or attibute\n",
    "4. object or instance"
   ]
  },
  {
   "cell_type": "code",
   "execution_count": 42,
   "id": "6455e7b7",
   "metadata": {},
   "outputs": [
    {
     "name": "stdout",
     "output_type": "stream",
     "text": [
      "2\n",
      "4\n"
     ]
    }
   ],
   "source": [
    "# Objects: A Sample Class\n",
    "\n",
    "# What will the following program print?:\n",
    "\n",
    "class PartyAnimal:\n",
    "    x = 0\n",
    "    def party(self):\n",
    "        self.x = self.x + 2\n",
    "        print(self.x)\n",
    "\n",
    "an = PartyAnimal()\n",
    "an.party() # 2\n",
    "an.party() # 4\n"
   ]
  },
  {
   "cell_type": "code",
   "execution_count": 43,
   "id": "900d8c04",
   "metadata": {},
   "outputs": [
    {
     "name": "stdout",
     "output_type": "stream",
     "text": [
      "Quincy constructed\n",
      "Miya constructed\n",
      "Quincy party count 1\n",
      "Miya party count 1\n",
      "Quincy party count 2\n"
     ]
    }
   ],
   "source": [
    "# Object Lifecycle\n",
    "\n",
    "# What will the following program print?:\n",
    "\n",
    "class PartyAnimal:\n",
    "    x = 0\n",
    "    name = ''\n",
    "    def __init__(self, nam):\n",
    "        self.name = nam\n",
    "        print(self.name,'constructed')\n",
    "    def party(self):\n",
    "        self.x = self.x + 1\n",
    "        print(self.name,'party count',self.x)\n",
    "\n",
    "# Calls the object\n",
    "q = PartyAnimal('Quincy')\n",
    "m = PartyAnimal('Miya')\n",
    "\n",
    "q.party()\n",
    "m.party()\n",
    "q.party()\n"
   ]
  },
  {
   "cell_type": "markdown",
   "id": "ea91d960",
   "metadata": {},
   "source": [
    "#### Objects: Inheritance\n",
    "\n",
    "Definitions:\n",
    "1. class\n",
    "2. atrribute\n",
    "3. method\n",
    "4. object\n",
    "5. constructor\n",
    "6. inheritance\n",
    "\n",
    "Q. What is inheritance in object-oriented programming?\n",
    "A. The ability to create a new class by extending an existing class."
   ]
  },
  {
   "cell_type": "markdown",
   "id": "6c4b16f3",
   "metadata": {},
   "source": [
    "#### Relational Databases and SQLite\n",
    "\n",
    "Teminology:\n",
    "1. Database\n",
    "2. Relation or table\n",
    "3. Tuple or row\n",
    "4. Attibute or column or field\n",
    "\n",
    "5. SQL; common commands for SQL, C.R.U.D.\n",
    "6. Create a table\n",
    "7. Retrieve data\n",
    "8. insert data (update data)\n",
    "9. delete data\n",
    "\n",
    "SEE: http://sqlitebrowser.org\n",
    "\n",
    "Q. Which is NOT a primary data structure in a database?\n",
    "A. index"
   ]
  },
  {
   "cell_type": "markdown",
   "id": "8ac8e1da",
   "metadata": {},
   "source": [
    "#### Make a Relational Database\n",
    "\n",
    "Q. What SQL command would you use to retrieve **all users** that have the **email address** **quincy@freecodecamp.org**?\n",
    "\n",
    "A. SELECT * FROM Users WHERE email=\"quincy@freecodecamp.org\""
   ]
  },
  {
   "cell_type": "markdown",
   "id": "1c6456b7",
   "metadata": {},
   "source": [
    "### Relational Database Design\n",
    "\n",
    "Q. What is the best practice for how many times a piece of string data \n",
    "should be stored in a database?\n",
    "\n",
    "A. **1**\n",
    "\n",
    "The key is reducing the redundancy of the data. Data showed only be stored or written once. If there is redundancy them refer to a table that may contain all the different types or aspects of that piece of info.\n",
    "\n",
    "Don't replicate **string data & use Keys**"
   ]
  },
  {
   "cell_type": "markdown",
   "id": "3b7b2ee7",
   "metadata": {},
   "source": [
    "### Representing Relationships in a Relational Database\n",
    "\n",
    "#### Three types of Keys\n",
    "1. Primary key\n",
    "2. Logical key; NOTE: Never use a logical key as the primary key.\n",
    "3. Foreign key\n",
    "\n",
    "Q. What is a foreign key?\n",
    "\n",
    "A. A number that points to the primary key of an associated row in a different table.\n",
    "\n",
    "NOTE: one convention for discussing keys is to:\n",
    "1. Cap first letter for the table name\n",
    "2. adding '_id' indicates that a foreign key is being used."
   ]
  },
  {
   "cell_type": "code",
   "execution_count": null,
   "id": "5fba67e9",
   "metadata": {},
   "outputs": [],
   "source": []
  },
  {
   "cell_type": "code",
   "execution_count": null,
   "id": "97b62638",
   "metadata": {},
   "outputs": [],
   "source": []
  },
  {
   "cell_type": "code",
   "execution_count": null,
   "id": "cd90f574",
   "metadata": {},
   "outputs": [],
   "source": []
  },
  {
   "cell_type": "code",
   "execution_count": null,
   "id": "63ddfc48",
   "metadata": {},
   "outputs": [],
   "source": []
  },
  {
   "cell_type": "code",
   "execution_count": null,
   "id": "0fd937e0",
   "metadata": {},
   "outputs": [],
   "source": []
  }
 ],
 "metadata": {
  "kernelspec": {
   "display_name": "Python 3",
   "language": "python",
   "name": "python3"
  },
  "language_info": {
   "codemirror_mode": {
    "name": "ipython",
    "version": 3
   },
   "file_extension": ".py",
   "mimetype": "text/x-python",
   "name": "python",
   "nbconvert_exporter": "python",
   "pygments_lexer": "ipython3",
   "version": "3.8.5"
  }
 },
 "nbformat": 4,
 "nbformat_minor": 5
}
