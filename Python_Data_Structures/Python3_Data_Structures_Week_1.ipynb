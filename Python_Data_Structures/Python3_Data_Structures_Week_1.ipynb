{
 "cells": [
  {
   "cell_type": "markdown",
   "id": "c7d04bb3",
   "metadata": {},
   "source": [
    "# Welcome to Python 3"
   ]
  },
  {
   "cell_type": "code",
   "execution_count": 1,
   "id": "4ed9d8c5",
   "metadata": {},
   "outputs": [
    {
     "name": "stdout",
     "output_type": "stream",
     "text": [
      "hello world\n"
     ]
    }
   ],
   "source": [
    "print(\"hello world\")"
   ]
  },
  {
   "cell_type": "code",
   "execution_count": 4,
   "id": "2e5601e1",
   "metadata": {},
   "outputs": [
    {
     "name": "stdout",
     "output_type": "stream",
     "text": [
      "What is your name? Matt\n"
     ]
    },
    {
     "data": {
      "text/plain": [
       "'Matt'"
      ]
     },
     "execution_count": 4,
     "metadata": {},
     "output_type": "execute_result"
    }
   ],
   "source": [
    "input('What is your name? ')"
   ]
  },
  {
   "cell_type": "markdown",
   "id": "79495e78",
   "metadata": {},
   "source": [
    "## Chapter 6.1 - Strings"
   ]
  },
  {
   "cell_type": "code",
   "execution_count": 8,
   "id": "c92b9d43",
   "metadata": {},
   "outputs": [
    {
     "name": "stdout",
     "output_type": "stream",
     "text": [
      "b\n",
      "n\n"
     ]
    }
   ],
   "source": [
    "# Strings are Indexable!\n",
    "\n",
    "text = 'banana'\n",
    "\n",
    "print(text[0])\n",
    "\n",
    "print(text[2])"
   ]
  },
  {
   "cell_type": "code",
   "execution_count": 7,
   "id": "ff9ed6ef",
   "metadata": {},
   "outputs": [
    {
     "name": "stdout",
     "output_type": "stream",
     "text": [
      "6\n"
     ]
    }
   ],
   "source": [
    "# String functions\n",
    "\n",
    "print(len(text))"
   ]
  },
  {
   "cell_type": "code",
   "execution_count": 10,
   "id": "86105954",
   "metadata": {},
   "outputs": [
    {
     "name": "stdout",
     "output_type": "stream",
     "text": [
      "0 b\n",
      "1 a\n",
      "2 n\n",
      "3 a\n",
      "4 n\n",
      "5 a\n"
     ]
    }
   ],
   "source": [
    "# Looping through Strings\n",
    "\n",
    "index = 0\n",
    "while index < len(text):\n",
    "    letter = text[index]\n",
    "    print(index, letter)\n",
    "    index = index + 1"
   ]
  },
  {
   "cell_type": "code",
   "execution_count": 12,
   "id": "14eaa6ae",
   "metadata": {},
   "outputs": [
    {
     "name": "stdout",
     "output_type": "stream",
     "text": [
      "b\n",
      "a\n",
      "n\n",
      "a\n",
      "n\n",
      "a\n"
     ]
    }
   ],
   "source": [
    "# using FOR to loop (Simple in Better)\n",
    "\n",
    "text = 'banana'\n",
    "\n",
    "for letter in text:\n",
    "    print(letter)"
   ]
  },
  {
   "cell_type": "code",
   "execution_count": 14,
   "id": "07bcc398",
   "metadata": {},
   "outputs": [
    {
     "name": "stdout",
     "output_type": "stream",
     "text": [
      "3\n"
     ]
    }
   ],
   "source": [
    "# Looping and Counting A's\n",
    "\n",
    "count = 0\n",
    "for letter in text:\n",
    "    if letter == 'a':\n",
    "        count = count + 1\n",
    "print(count)"
   ]
  },
  {
   "cell_type": "code",
   "execution_count": 15,
   "id": "a87af879",
   "metadata": {},
   "outputs": [
    {
     "name": "stdout",
     "output_type": "stream",
     "text": [
      "b\n",
      "a\n",
      "n\n",
      "a\n",
      "n\n",
      "a\n"
     ]
    }
   ],
   "source": [
    "for letter in 'banana':\n",
    "    print(letter)"
   ]
  },
  {
   "cell_type": "code",
   "execution_count": 25,
   "id": "ec2726b2",
   "metadata": {},
   "outputs": [
    {
     "name": "stdout",
     "output_type": "stream",
     "text": [
      "Monty\n",
      "P\n",
      "Python\n",
      "Flying\n"
     ]
    }
   ],
   "source": [
    "# String Slicing\n",
    "\n",
    "s = 'Monty Pythons Flying Circus'\n",
    "\n",
    "print(s[0:5])\n",
    "\n",
    "print(s[6:7])\n",
    "\n",
    "print(s[6:12])\n",
    "\n",
    "print(s[14:20])"
   ]
  },
  {
   "cell_type": "code",
   "execution_count": 27,
   "id": "deb04cc2",
   "metadata": {},
   "outputs": [
    {
     "name": "stdout",
     "output_type": "stream",
     "text": [
      "Mon\n",
      "thons Flying Circus\n",
      "Monty Pythons Flying Circus\n"
     ]
    }
   ],
   "source": [
    "print(s[:3])\n",
    "\n",
    "print(s[8:])\n",
    "\n",
    "print(s[:])"
   ]
  },
  {
   "cell_type": "markdown",
   "id": "e2a80816",
   "metadata": {},
   "source": [
    "## 6.2 - Manipulating Strings"
   ]
  },
  {
   "cell_type": "code",
   "execution_count": 29,
   "id": "c24b35db",
   "metadata": {},
   "outputs": [
    {
     "name": "stdout",
     "output_type": "stream",
     "text": [
      "HelloYou\n",
      "Hello You\n"
     ]
    }
   ],
   "source": [
    "# String Concatenation\n",
    "\n",
    "a = 'Hello'\n",
    "\n",
    "b = a + 'You'\n",
    "print(b)\n",
    "\n",
    "c = a + ' ' + 'You'\n",
    "print(c)"
   ]
  },
  {
   "cell_type": "code",
   "execution_count": 35,
   "id": "e8a88267",
   "metadata": {},
   "outputs": [
    {
     "name": "stdout",
     "output_type": "stream",
     "text": [
      "banana\n",
      "True\n",
      "False\n"
     ]
    }
   ],
   "source": [
    "# Using 'in' as a logical operator\n",
    "\n",
    "print(text)\n",
    "\n",
    "print('n' in text)\n",
    "\n",
    "print('m' in text)"
   ]
  },
  {
   "cell_type": "code",
   "execution_count": 33,
   "id": "8fe72642",
   "metadata": {},
   "outputs": [
    {
     "data": {
      "text/plain": [
       "True"
      ]
     },
     "execution_count": 33,
     "metadata": {},
     "output_type": "execute_result"
    }
   ],
   "source": [
    "'n' in text"
   ]
  },
  {
   "cell_type": "code",
   "execution_count": 36,
   "id": "2341d851",
   "metadata": {},
   "outputs": [
    {
     "name": "stdout",
     "output_type": "stream",
     "text": [
      "Found an A\n"
     ]
    }
   ],
   "source": [
    "if 'a' in text:\n",
    "    print('Found an A')"
   ]
  },
  {
   "cell_type": "code",
   "execution_count": 38,
   "id": "860aa706",
   "metadata": {},
   "outputs": [
    {
     "name": "stdout",
     "output_type": "stream",
     "text": [
      "They are the same\n"
     ]
    }
   ],
   "source": [
    "# String Comparison\n",
    "\n",
    "word = 'banana'\n",
    "\n",
    "if word == text:\n",
    "    print('They are the same')"
   ]
  },
  {
   "cell_type": "code",
   "execution_count": 40,
   "id": "df727600",
   "metadata": {},
   "outputs": [
    {
     "name": "stdout",
     "output_type": "stream",
     "text": [
      "The same.\n"
     ]
    }
   ],
   "source": [
    "if word < text:\n",
    "    print('Your word' + word + 'comes before banana.')\n",
    "elif word > text:\n",
    "    print('Comes after text')\n",
    "else:\n",
    "    print('The same.')"
   ]
  },
  {
   "cell_type": "code",
   "execution_count": 41,
   "id": "af71eba6",
   "metadata": {},
   "outputs": [
    {
     "name": "stdout",
     "output_type": "stream",
     "text": [
      "hello world\n",
      "HELLO WORLD\n"
     ]
    }
   ],
   "source": [
    "# String Libraries, lower, upper\n",
    "\n",
    "greeting = 'Hello World'\n",
    "\n",
    "tweek = greeting.lower()\n",
    "print(tweek)\n",
    "\n",
    "twurp = greeting.upper()\n",
    "print(twurp)"
   ]
  },
  {
   "cell_type": "code",
   "execution_count": 48,
   "id": "95d0e6de",
   "metadata": {},
   "outputs": [
    {
     "name": "stdout",
     "output_type": "stream",
     "text": [
      "2\n",
      "-1\n"
     ]
    }
   ],
   "source": [
    "# Example String functions\n",
    "\n",
    "position = text.find('na')\n",
    "print(position)\n",
    "\n",
    "not_z = text.find('z')\n",
    "print(not_z)"
   ]
  },
  {
   "cell_type": "code",
   "execution_count": 50,
   "id": "8f2248fe",
   "metadata": {},
   "outputs": [
    {
     "name": "stdout",
     "output_type": "stream",
     "text": [
      "Hello Matt\n",
      "Hellx Bxb\n"
     ]
    }
   ],
   "source": [
    "# Search and Replace\n",
    "\n",
    "greet = 'Hello Bob'\n",
    "\n",
    "nstr = greet.replace('Bob', 'Matt')\n",
    "\n",
    "print(nstr)\n",
    "\n",
    "repstr = greet.replace('o', 'x')\n",
    "print(repstr)"
   ]
  },
  {
   "cell_type": "code",
   "execution_count": 52,
   "id": "c5c0944a",
   "metadata": {},
   "outputs": [
    {
     "data": {
      "text/plain": [
       "'Hello    Bob  '"
      ]
     },
     "execution_count": 52,
     "metadata": {},
     "output_type": "execute_result"
    }
   ],
   "source": [
    "# Stripping Whitespaces\n",
    "\n",
    "greet = '    Hello    Bob  '\n",
    "\n",
    "greet.lstrip()  # left strip"
   ]
  },
  {
   "cell_type": "code",
   "execution_count": 53,
   "id": "7c47636d",
   "metadata": {},
   "outputs": [
    {
     "data": {
      "text/plain": [
       "'    Hello    Bob'"
      ]
     },
     "execution_count": 53,
     "metadata": {},
     "output_type": "execute_result"
    }
   ],
   "source": [
    "greet.rstrip() # right strip"
   ]
  },
  {
   "cell_type": "code",
   "execution_count": 54,
   "id": "03420f4a",
   "metadata": {},
   "outputs": [
    {
     "data": {
      "text/plain": [
       "'Hello    Bob'"
      ]
     },
     "execution_count": 54,
     "metadata": {},
     "output_type": "execute_result"
    }
   ],
   "source": [
    "greet.strip() # stripping left and right spaces"
   ]
  },
  {
   "cell_type": "code",
   "execution_count": 55,
   "id": "486e5797",
   "metadata": {},
   "outputs": [
    {
     "data": {
      "text/plain": [
       "True"
      ]
     },
     "execution_count": 55,
     "metadata": {},
     "output_type": "execute_result"
    }
   ],
   "source": [
    "# Prefixes\n",
    "\n",
    "line = 'Please be safe by wearing a mask.'\n",
    "\n",
    "line.startswith('Please')"
   ]
  },
  {
   "cell_type": "code",
   "execution_count": 56,
   "id": "19cd37cf",
   "metadata": {},
   "outputs": [
    {
     "data": {
      "text/plain": [
       "True"
      ]
     },
     "execution_count": 56,
     "metadata": {},
     "output_type": "execute_result"
    }
   ],
   "source": [
    "line.startswith('P')"
   ]
  },
  {
   "cell_type": "code",
   "execution_count": 85,
   "id": "02687abc",
   "metadata": {},
   "outputs": [
    {
     "data": {
      "text/plain": [
       "False"
      ]
     },
     "execution_count": 85,
     "metadata": {},
     "output_type": "execute_result"
    }
   ],
   "source": [
    "line.startswith('p')"
   ]
  },
  {
   "cell_type": "markdown",
   "id": "9fe478d8",
   "metadata": {},
   "source": [
    "## # Parsing and Extracting Example"
   ]
  },
  {
   "cell_type": "code",
   "execution_count": 58,
   "id": "b3ef2ffe",
   "metadata": {},
   "outputs": [
    {
     "name": "stdout",
     "output_type": "stream",
     "text": [
      "12\n"
     ]
    }
   ],
   "source": [
    "data = 'From mockrun@gmail.com on Sat Jul 27 17:14:16 2021'\n",
    "\n",
    "atpos = data.find('@')\n",
    "print(atpos)"
   ]
  },
  {
   "cell_type": "code",
   "execution_count": 60,
   "id": "a1ca9632",
   "metadata": {},
   "outputs": [
    {
     "name": "stdout",
     "output_type": "stream",
     "text": [
      "22\n"
     ]
    }
   ],
   "source": [
    "sppos = data.find(' ', atpos) # this find the first space AFTER position=12.\n",
    "print(sppos)"
   ]
  },
  {
   "cell_type": "code",
   "execution_count": 61,
   "id": "ec1bccb6",
   "metadata": {},
   "outputs": [
    {
     "name": "stdout",
     "output_type": "stream",
     "text": [
      "gmail.com\n"
     ]
    }
   ],
   "source": [
    "host_name = data[atpos+1 : sppos]\n",
    "print(host_name)"
   ]
  },
  {
   "cell_type": "markdown",
   "id": "350540cb",
   "metadata": {},
   "source": [
    "## Chapter 6 Quiz"
   ]
  },
  {
   "cell_type": "code",
   "execution_count": 1,
   "id": "de07a52e",
   "metadata": {},
   "outputs": [
    {
     "name": "stdout",
     "output_type": "stream",
     "text": [
      "Hellothere\n"
     ]
    }
   ],
   "source": [
    "str1 = \"Hello\"\n",
    "str2 = 'there'\n",
    "bob = str1 + str2\n",
    "print(bob)"
   ]
  },
  {
   "cell_type": "code",
   "execution_count": 2,
   "id": "f2706bca",
   "metadata": {},
   "outputs": [
    {
     "name": "stdout",
     "output_type": "stream",
     "text": [
      "42\n"
     ]
    }
   ],
   "source": [
    "x = '40'\n",
    "y = int(x) + 2\n",
    "print(y)"
   ]
  },
  {
   "cell_type": "code",
   "execution_count": 3,
   "id": "9e278adb",
   "metadata": {},
   "outputs": [
    {
     "name": "stdout",
     "output_type": "stream",
     "text": [
      "q\n"
     ]
    }
   ],
   "source": [
    "# print out the letter q\n",
    "\n",
    "x = 'From marquard@uct.ac.za'\n",
    "\n",
    "print(x[8])"
   ]
  },
  {
   "cell_type": "code",
   "execution_count": 6,
   "id": "170bcc3d",
   "metadata": {},
   "outputs": [
    {
     "name": "stdout",
     "output_type": "stream",
     "text": [
      "uct\n"
     ]
    }
   ],
   "source": [
    "# print out 'uct'\n",
    "\n",
    "x = 'From marquard@uct.ac.za'\n",
    "\n",
    "print(x[14:17])"
   ]
  },
  {
   "cell_type": "code",
   "execution_count": null,
   "id": "d729a7c9",
   "metadata": {},
   "outputs": [],
   "source": [
    "# What is the iteration variable in the following Python code?\n",
    "\n",
    "for letter in 'banana' :\n",
    "    print(letter)"
   ]
  },
  {
   "cell_type": "code",
   "execution_count": 7,
   "id": "52ed1259",
   "metadata": {},
   "outputs": [
    {
     "name": "stdout",
     "output_type": "stream",
     "text": [
      "42\n"
     ]
    }
   ],
   "source": [
    "print(len('banana')*7)"
   ]
  },
  {
   "cell_type": "code",
   "execution_count": 9,
   "id": "e49ab2a9",
   "metadata": {},
   "outputs": [
    {
     "name": "stdout",
     "output_type": "stream",
     "text": [
      "HELLO BOB\n"
     ]
    }
   ],
   "source": [
    "# How would you print out the following variable in all upper case in Python?\n",
    "\n",
    "greet = 'Hello Bob'\n",
    "\n",
    "print(greet.upper())"
   ]
  },
  {
   "cell_type": "code",
   "execution_count": 19,
   "id": "e50eb0db",
   "metadata": {},
   "outputs": [
    {
     "data": {
      "text/plain": [
       "['__add__',\n",
       " '__class__',\n",
       " '__contains__',\n",
       " '__delattr__',\n",
       " '__dir__',\n",
       " '__doc__',\n",
       " '__eq__',\n",
       " '__format__',\n",
       " '__ge__',\n",
       " '__getattribute__',\n",
       " '__getitem__',\n",
       " '__getnewargs__',\n",
       " '__gt__',\n",
       " '__hash__',\n",
       " '__init__',\n",
       " '__init_subclass__',\n",
       " '__iter__',\n",
       " '__le__',\n",
       " '__len__',\n",
       " '__lt__',\n",
       " '__mod__',\n",
       " '__mul__',\n",
       " '__ne__',\n",
       " '__new__',\n",
       " '__reduce__',\n",
       " '__reduce_ex__',\n",
       " '__repr__',\n",
       " '__rmod__',\n",
       " '__rmul__',\n",
       " '__setattr__',\n",
       " '__sizeof__',\n",
       " '__str__',\n",
       " '__subclasshook__',\n",
       " 'capitalize',\n",
       " 'casefold',\n",
       " 'center',\n",
       " 'count',\n",
       " 'encode',\n",
       " 'endswith',\n",
       " 'expandtabs',\n",
       " 'find',\n",
       " 'format',\n",
       " 'format_map',\n",
       " 'index',\n",
       " 'isalnum',\n",
       " 'isalpha',\n",
       " 'isascii',\n",
       " 'isdecimal',\n",
       " 'isdigit',\n",
       " 'isidentifier',\n",
       " 'islower',\n",
       " 'isnumeric',\n",
       " 'isprintable',\n",
       " 'isspace',\n",
       " 'istitle',\n",
       " 'isupper',\n",
       " 'join',\n",
       " 'ljust',\n",
       " 'lower',\n",
       " 'lstrip',\n",
       " 'maketrans',\n",
       " 'partition',\n",
       " 'replace',\n",
       " 'rfind',\n",
       " 'rindex',\n",
       " 'rjust',\n",
       " 'rpartition',\n",
       " 'rsplit',\n",
       " 'rstrip',\n",
       " 'split',\n",
       " 'splitlines',\n",
       " 'startswith',\n",
       " 'strip',\n",
       " 'swapcase',\n",
       " 'title',\n",
       " 'translate',\n",
       " 'upper',\n",
       " 'zfill']"
      ]
     },
     "execution_count": 19,
     "metadata": {},
     "output_type": "execute_result"
    }
   ],
   "source": [
    "# Which of the following is not a valid string method in Python?\n",
    "\n",
    "dir(str)"
   ]
  },
  {
   "cell_type": "code",
   "execution_count": 14,
   "id": "9aeb56d2",
   "metadata": {},
   "outputs": [
    {
     "name": "stdout",
     "output_type": "stream",
     "text": [
      "Help on method_descriptor in str:\n",
      "\n",
      "str.split = split(self, /, sep=None, maxsplit=-1)\n",
      "    Return a list of the words in the string, using sep as the delimiter string.\n",
      "    \n",
      "    sep\n",
      "      The delimiter according which to split the string.\n",
      "      None (the default value) means split according to any whitespace,\n",
      "      and discard empty strings from the result.\n",
      "    maxsplit\n",
      "      Maximum number of splits to do.\n",
      "      -1 (the default value) means no limit.\n",
      "\n"
     ]
    }
   ],
   "source": [
    "help('str.split')"
   ]
  },
  {
   "cell_type": "code",
   "execution_count": 15,
   "id": "38eafaaf",
   "metadata": {},
   "outputs": [
    {
     "name": "stdout",
     "output_type": "stream",
     "text": [
      "Help on method_descriptor in str:\n",
      "\n",
      "str.join = join(self, iterable, /)\n",
      "    Concatenate any number of strings.\n",
      "    \n",
      "    The string whose method is called is inserted in between each given string.\n",
      "    The result is returned as a new string.\n",
      "    \n",
      "    Example: '.'.join(['ab', 'pq', 'rs']) -> 'ab.pq.rs'\n",
      "\n"
     ]
    }
   ],
   "source": [
    "help('str.join')"
   ]
  },
  {
   "cell_type": "code",
   "execution_count": 20,
   "id": "ff50e0fa",
   "metadata": {},
   "outputs": [
    {
     "name": "stdout",
     "output_type": "stream",
     "text": [
      "Help on method_descriptor in str:\n",
      "\n",
      "str.startswith = startswith(...)\n",
      "    S.startswith(prefix[, start[, end]]) -> bool\n",
      "    \n",
      "    Return True if S starts with the specified prefix, False otherwise.\n",
      "    With optional start, test S beginning at that position.\n",
      "    With optional end, stop comparing S at that position.\n",
      "    prefix can also be a tuple of strings to try.\n",
      "\n"
     ]
    }
   ],
   "source": [
    "help('str.startswith')"
   ]
  },
  {
   "cell_type": "code",
   "execution_count": 17,
   "id": "727560f5",
   "metadata": {},
   "outputs": [
    {
     "name": "stdout",
     "output_type": "stream",
     "text": [
      "No Python documentation found for 'str.shout'.\n",
      "Use help() to get the interactive help utility.\n",
      "Use help(str) for help on the str class.\n",
      "\n"
     ]
    }
   ],
   "source": [
    "help('str.shout')"
   ]
  },
  {
   "cell_type": "code",
   "execution_count": 21,
   "id": "260db96a",
   "metadata": {},
   "outputs": [
    {
     "name": "stdout",
     "output_type": "stream",
     "text": [
      ".ma\n"
     ]
    }
   ],
   "source": [
    "# What will the following Python code print out?\n",
    "\n",
    "data = 'From stephen.marquard@uct.ac.za Sat Jan  5 09:14:16 2008'\n",
    "pos = data.find('.')\n",
    "print(data[pos:pos+3])"
   ]
  },
  {
   "cell_type": "code",
   "execution_count": 23,
   "id": "a5140869",
   "metadata": {},
   "outputs": [
    {
     "name": "stdout",
     "output_type": "stream",
     "text": [
      "Help on method_descriptor in str:\n",
      "\n",
      "str.strip = strip(self, chars=None, /)\n",
      "    Return a copy of the string with leading and trailing whitespace removed.\n",
      "    \n",
      "    If chars is given and not None, remove characters in chars instead.\n",
      "\n"
     ]
    }
   ],
   "source": [
    "# Which of the following string methods removes whitespace from both the beginning and end of a string?\n",
    "\n",
    "help('str.strip')"
   ]
  },
  {
   "cell_type": "markdown",
   "id": "1899d032",
   "metadata": {},
   "source": [
    "# Exercise 6.5 \n",
    "\n",
    "- Write code using find() and string slicing (see section 6.10) to extract the number at the end of the line below. \n",
    "- Convert the extracted value to a floating point number and print it out."
   ]
  },
  {
   "cell_type": "code",
   "execution_count": 24,
   "id": "9076a72c",
   "metadata": {},
   "outputs": [],
   "source": [
    "text = \"X-DSPAM-Confidence:    0.8475\""
   ]
  },
  {
   "cell_type": "code",
   "execution_count": 32,
   "id": "5acd632b",
   "metadata": {},
   "outputs": [
    {
     "name": "stdout",
     "output_type": "stream",
     "text": [
      "0.8475\n"
     ]
    }
   ],
   "source": [
    "at_colon = text.find(':')\n",
    "string_to_end = text[at_colon+1 :]\n",
    "print(float(string_to_end))"
   ]
  }
 ],
 "metadata": {
  "kernelspec": {
   "display_name": "Python 3",
   "language": "python",
   "name": "python3"
  },
  "language_info": {
   "codemirror_mode": {
    "name": "ipython",
    "version": 3
   },
   "file_extension": ".py",
   "mimetype": "text/x-python",
   "name": "python",
   "nbconvert_exporter": "python",
   "pygments_lexer": "ipython3",
   "version": "3.8.8"
  }
 },
 "nbformat": 4,
 "nbformat_minor": 5
}
