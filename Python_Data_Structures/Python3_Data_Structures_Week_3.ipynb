{
 "cells": [
  {
   "cell_type": "markdown",
   "id": "ff70c532",
   "metadata": {},
   "source": [
    "## Python Code Playground"
   ]
  },
  {
   "cell_type": "markdown",
   "id": "e6c4def2",
   "metadata": {},
   "source": [
    "You can write any code you like in the window below. \n",
    "\n",
    "There are three files loaded and ready for you to open if you want to do file processing: \n",
    "\n",
    "- \"mbox-short.txt\", \n",
    "- \"romeo.txt\", \n",
    "- \"words.txt\"."
   ]
  },
  {
   "cell_type": "code",
   "execution_count": 1,
   "id": "bdcb37e8",
   "metadata": {},
   "outputs": [
    {
     "name": "stdout",
     "output_type": "stream",
     "text": [
      "But soft what light through yonder window breaks\n",
      "It is the east and Juliet is the sun\n",
      "Arise fair sun and kill the envious moon\n",
      "Who is already sick and pale with grief\n",
      "\n",
      " 4 Lines\n"
     ]
    }
   ],
   "source": [
    "fh = open(\"romeo.txt\", \"r\")\n",
    "\n",
    "count = 0\n",
    "for line in fh:\n",
    "    print(line.strip())\n",
    "    count = count + 1\n",
    "\n",
    "print('\\n', count,\"Lines\")"
   ]
  },
  {
   "cell_type": "markdown",
   "id": "04e6d0ea",
   "metadata": {},
   "source": [
    "## 7.1 - Files\n",
    "\n",
    "- To find code used in this section see:\n",
    "\n",
    "https://www.py4e.com/code3/"
   ]
  },
  {
   "cell_type": "code",
   "execution_count": 2,
   "id": "aa124f71",
   "metadata": {},
   "outputs": [
    {
     "name": "stdout",
     "output_type": "stream",
     "text": [
      "\n",
      " 1910 Lines\n"
     ]
    }
   ],
   "source": [
    "fh = open('mbox-short.txt', 'r')\n",
    "\n",
    "count = 0\n",
    "for line in fh:\n",
    "    #print(line.strip())\n",
    "    count = count + 1\n",
    "\n",
    "print('\\n', count,\"Lines\")"
   ]
  },
  {
   "cell_type": "code",
   "execution_count": 9,
   "id": "849a4d77",
   "metadata": {},
   "outputs": [
    {
     "ename": "FileNotFoundError",
     "evalue": "[Errno 2] No such file or directory: 'nothing.txt'",
     "output_type": "error",
     "traceback": [
      "\u001b[0;31m---------------------------------------------------------------------------\u001b[0m",
      "\u001b[0;31mFileNotFoundError\u001b[0m                         Traceback (most recent call last)",
      "\u001b[0;32m<ipython-input-9-3f7692c7ac88>\u001b[0m in \u001b[0;36m<module>\u001b[0;34m\u001b[0m\n\u001b[1;32m      1\u001b[0m \u001b[0;31m# Bad example\u001b[0m\u001b[0;34m\u001b[0m\u001b[0;34m\u001b[0m\u001b[0;34m\u001b[0m\u001b[0m\n\u001b[1;32m      2\u001b[0m \u001b[0;34m\u001b[0m\u001b[0m\n\u001b[0;32m----> 3\u001b[0;31m \u001b[0mfhand\u001b[0m \u001b[0;34m=\u001b[0m \u001b[0mopen\u001b[0m\u001b[0;34m(\u001b[0m\u001b[0;34m'nothing.txt'\u001b[0m\u001b[0;34m)\u001b[0m\u001b[0;34m\u001b[0m\u001b[0;34m\u001b[0m\u001b[0m\n\u001b[0m",
      "\u001b[0;31mFileNotFoundError\u001b[0m: [Errno 2] No such file or directory: 'nothing.txt'"
     ]
    }
   ],
   "source": [
    "# Bad example\n",
    "\n",
    "fhand = open('nothing.txt')"
   ]
  },
  {
   "cell_type": "markdown",
   "id": "98bfbdec",
   "metadata": {},
   "source": [
    "## 7.2 - Processing Files"
   ]
  },
  {
   "cell_type": "code",
   "execution_count": 1,
   "id": "7db99881",
   "metadata": {},
   "outputs": [
    {
     "name": "stdout",
     "output_type": "stream",
     "text": [
      "94626  Characters in file\n",
      "From stephen.marquar\n"
     ]
    }
   ],
   "source": [
    "# Reading the entire file in one pass\n",
    "\n",
    "fhand = open('mbox-short.txt', 'r')\n",
    "inp = fhand.read()\n",
    "\n",
    "print(len(inp), ' Characters in file')\n",
    "\n",
    "print(inp[:20]) # first 20 characters"
   ]
  },
  {
   "cell_type": "code",
   "execution_count": 2,
   "id": "d9c6fc4d",
   "metadata": {},
   "outputs": [
    {
     "name": "stdout",
     "output_type": "stream",
     "text": [
      "From: david.horwitz@uct.ac.za\n",
      "\n",
      "From: david.horwitz@uct.ac.za\n",
      "\n",
      "From: david.horwitz@uct.ac.za\n",
      "\n",
      "From: david.horwitz@uct.ac.za\n",
      "\n"
     ]
    }
   ],
   "source": [
    "# Searching through a file for some phrase\n",
    "\n",
    "fhand = open('mbox-short.txt', 'r')\n",
    "\n",
    "for line in fhand:\n",
    "    if line.startswith('From: david') :\n",
    "        print(line)                   "
   ]
  },
  {
   "cell_type": "code",
   "execution_count": 1,
   "id": "bf61d359",
   "metadata": {},
   "outputs": [
    {
     "name": "stdout",
     "output_type": "stream",
     "text": [
      "From: david.horwitz@uct.ac.za\n",
      "From: david.horwitz@uct.ac.za\n",
      "From: david.horwitz@uct.ac.za\n",
      "From: david.horwitz@uct.ac.za\n"
     ]
    }
   ],
   "source": [
    "# To strip off the '\\n' new line characters at the end of lines\n",
    "\n",
    "fhand = open('mbox-short.txt', 'r')\n",
    "\n",
    "for line in fhand:\n",
    "    line = line.rstrip()\n",
    "    if line.startswith('From: david') :\n",
    "        print(line)                   "
   ]
  },
  {
   "cell_type": "code",
   "execution_count": 4,
   "id": "7001060b",
   "metadata": {},
   "outputs": [
    {
     "name": "stdout",
     "output_type": "stream",
     "text": [
      "From: stephen.marquard@uct.ac.za\n",
      "From: louis@media.berkeley.edu\n",
      "From: zqian@umich.edu\n",
      "From: rjlowe@iupui.edu\n",
      "From: zqian@umich.edu\n",
      "From: rjlowe@iupui.edu\n",
      "From: cwen@iupui.edu\n",
      "From: cwen@iupui.edu\n",
      "From: gsilver@umich.edu\n",
      "From: gsilver@umich.edu\n",
      "From: zqian@umich.edu\n",
      "From: gsilver@umich.edu\n",
      "From: wagnermr@iupui.edu\n",
      "From: zqian@umich.edu\n",
      "From: antranig@caret.cam.ac.uk\n",
      "From: gopal.ramasammycook@gmail.com\n",
      "From: david.horwitz@uct.ac.za\n",
      "From: david.horwitz@uct.ac.za\n",
      "From: david.horwitz@uct.ac.za\n",
      "From: david.horwitz@uct.ac.za\n",
      "From: stephen.marquard@uct.ac.za\n",
      "From: louis@media.berkeley.edu\n",
      "From: louis@media.berkeley.edu\n",
      "From: ray@media.berkeley.edu\n",
      "From: cwen@iupui.edu\n",
      "From: cwen@iupui.edu\n",
      "From: cwen@iupui.edu\n",
      "\n",
      " 27 Lines\n"
     ]
    }
   ],
   "source": [
    "# How to Skip Certain lines with Continue\n",
    "\n",
    "fhand = open('mbox-short.txt', 'r')\n",
    "\n",
    "count = 0\n",
    "for line in fhand:\n",
    "    line = line.rstrip()\n",
    "    if not line.startswith('From: '):\n",
    "        continue\n",
    "    print(line)\n",
    "    count = count + 1\n",
    "\n",
    "print('\\n', count,\"Lines\")"
   ]
  },
  {
   "cell_type": "code",
   "execution_count": 3,
   "id": "e680799f",
   "metadata": {},
   "outputs": [
    {
     "name": "stdout",
     "output_type": "stream",
     "text": [
      "From stephen.marquard@uct.ac.za Sat Jan  5 09:14:16 2008\n",
      "X-Authentication-Warning: nakamura.uits.iupui.edu: apache set sender to stephen.marquard@uct.ac.za using -f\n",
      "From: stephen.marquard@uct.ac.za\n",
      "Author: stephen.marquard@uct.ac.za\n",
      "From david.horwitz@uct.ac.za Fri Jan  4 07:02:32 2008\n",
      "X-Authentication-Warning: nakamura.uits.iupui.edu: apache set sender to david.horwitz@uct.ac.za using -f\n",
      "From: david.horwitz@uct.ac.za\n",
      "Author: david.horwitz@uct.ac.za\n",
      "r39753 | david.horwitz@uct.ac.za | 2008-01-04 13:05:51 +0200 (Fri, 04 Jan 2008) | 1 line\n",
      "From david.horwitz@uct.ac.za Fri Jan  4 06:08:27 2008\n",
      "X-Authentication-Warning: nakamura.uits.iupui.edu: apache set sender to david.horwitz@uct.ac.za using -f\n",
      "From: david.horwitz@uct.ac.za\n",
      "Author: david.horwitz@uct.ac.za\n",
      "From david.horwitz@uct.ac.za Fri Jan  4 04:49:08 2008\n",
      "X-Authentication-Warning: nakamura.uits.iupui.edu: apache set sender to david.horwitz@uct.ac.za using -f\n",
      "From: david.horwitz@uct.ac.za\n",
      "Author: david.horwitz@uct.ac.za\n",
      "From david.horwitz@uct.ac.za Fri Jan  4 04:33:44 2008\n",
      "X-Authentication-Warning: nakamura.uits.iupui.edu: apache set sender to david.horwitz@uct.ac.za using -f\n",
      "From: david.horwitz@uct.ac.za\n",
      "Author: david.horwitz@uct.ac.za\n",
      "From stephen.marquard@uct.ac.za Fri Jan  4 04:07:34 2008\n",
      "X-Authentication-Warning: nakamura.uits.iupui.edu: apache set sender to stephen.marquard@uct.ac.za using -f\n",
      "From: stephen.marquard@uct.ac.za\n",
      "Author: stephen.marquard@uct.ac.za\n"
     ]
    }
   ],
   "source": [
    "# Using 'in' to Select lines\n",
    "\n",
    "fhand = open('mbox-short.txt', 'r')\n",
    "\n",
    "for line in fhand:\n",
    "    line = line.rstrip()\n",
    "    if not '@uct.ac.za' in line:\n",
    "        continue\n",
    "    print(line)"
   ]
  },
  {
   "cell_type": "code",
   "execution_count": 2,
   "id": "6256a103",
   "metadata": {},
   "outputs": [
    {
     "name": "stdout",
     "output_type": "stream",
     "text": [
      "Enter file name: mbox-short.txt\n",
      "There are 27 subject lines in mbox-short.txt\n"
     ]
    }
   ],
   "source": [
    "# Prompting for file names\n",
    "\n",
    "fname = input('Enter file name: ')\n",
    "fhand = open(fname)\n",
    "count = 0\n",
    "\n",
    "for line in fhand:\n",
    "    if line.startswith('Subject:'):\n",
    "        count = count + 1\n",
    "print('There are', count, 'subject lines in', fname)"
   ]
  },
  {
   "cell_type": "code",
   "execution_count": 3,
   "id": "1ce404d8",
   "metadata": {},
   "outputs": [
    {
     "name": "stdout",
     "output_type": "stream",
     "text": [
      "Enter file name: kjoi\n",
      "File: kjoi , does not exist\n",
      "There are 0 subject lines in kjoi\n"
     ]
    }
   ],
   "source": [
    "# Handling Bad file names; EXAMPLE 1\n",
    "\n",
    "fname = input('Enter file name: ')\n",
    "try:\n",
    "    fhand = open(fname)\n",
    "except:\n",
    "    print('File:', fname, ', does not exist')\n",
    "    quit()\n",
    "\n",
    "count = 0\n",
    "for line in fhand:\n",
    "    if line.startswith('Subject:'):\n",
    "        count = count + 1\n",
    "print('There are', count, 'subject lines in', fname)"
   ]
  },
  {
   "cell_type": "code",
   "execution_count": 1,
   "id": "87fc75fa",
   "metadata": {},
   "outputs": [
    {
     "name": "stdout",
     "output_type": "stream",
     "text": [
      "Enter file name: dfd\n",
      "File: dfd  does not exist\n"
     ]
    }
   ],
   "source": [
    "# Handling Bad file names; EXAMPLE 2\n",
    "\n",
    "fname = input('Enter file name: ')\n",
    "try:\n",
    "    fhand = open(fname)\n",
    "    count = 0\n",
    "\n",
    "    for line in fhand:\n",
    "        if line.startswith('Subject:'):\n",
    "            count = count + 1\n",
    "    print('There are', count, 'subject lines in', fname)\n",
    "except:\n",
    "    print('File:', fname, ' does not exist')\n",
    "    quit()\n"
   ]
  },
  {
   "cell_type": "markdown",
   "id": "65cf6eac",
   "metadata": {},
   "source": [
    "## Chapter 7 Quiz"
   ]
  },
  {
   "cell_type": "markdown",
   "id": "3e49b3fb",
   "metadata": {},
   "source": [
    "1. Given the architecture and terminology we introduced in Chapter 1, where are files stored?\n",
    "   A. Secondary memory\n",
    "\n",
    "2. What is stored in a \"file handle\" that is returned from a successful open() call?\n",
    "   A. All the data from the file is read into memory and stored in the handle\n",
    "   \n",
    "3. What do we use the second parameter of the open() call to indicate?\n",
    "   A. Whether we want to read data from the file or write data to the file\n",
    "   \n",
    "4. What Python function would you use if you wanted to prompt the user for a file name to open?\n",
    "   A. input()\n",
    "   \n",
    "5. What is the purpose of the newline character in text files?\n",
    "   A. It indicates the end of one line of text and the beginning of another line of text"
   ]
  },
  {
   "cell_type": "markdown",
   "id": "967f4eb1",
   "metadata": {},
   "source": [
    "6. If we open a file as follows:\n",
    "\n",
    "xfile = open('mbox.txt')\n",
    "\n",
    "A. for line in xfile:"
   ]
  },
  {
   "cell_type": "markdown",
   "id": "5c63a0e9",
   "metadata": {},
   "source": [
    "7. What is the purpose of the following Python code?\n",
    "\n",
    "```\n",
    "fhand = open('mbox.txt')\n",
    "x = 0\n",
    "for line in fhand:\n",
    "       x = x + 1\n",
    "print(x)\n",
    "```\n",
    "\n",
    "A. Count the lines in the file 'mbox.txt'"
   ]
  },
  {
   "cell_type": "markdown",
   "id": "cf654642",
   "metadata": {},
   "source": [
    "8. If you write a Python program to read a text file and you see extra blank lines in the output that are not present in the file input as shown below, what Python string function will likely solve the problem?\n",
    "\n",
    "A. rstrip()"
   ]
  },
  {
   "cell_type": "markdown",
   "id": "3dc5ea1f",
   "metadata": {},
   "source": [
    "9. The following code sequence fails with a traceback when the user enters a file that does not exist.  How would you avoid the traceback and make it so you could print out your own error message when a bad file name was entered?\n",
    "\n",
    "```\n",
    "fname = input('Enter the file name: ')\n",
    "fhand = open(fname)\n",
    "```\n",
    "\n",
    "A. try / except"
   ]
  },
  {
   "cell_type": "markdown",
   "id": "c6202baa",
   "metadata": {},
   "source": [
    "10. What does the following Python code do?\n",
    "```\n",
    "inp = fhand.read()\n",
    "```\n",
    "\n",
    "A. Reads the entire file into the variable inp as a string"
   ]
  },
  {
   "cell_type": "markdown",
   "id": "4a9dec01",
   "metadata": {},
   "source": [
    "## Exercise 7.1\n",
    "\n",
    "Write a program that prompts for a file name, then opens that file and reads through the file, and print the contents of the file in upper case. Use the file words.txt to produce the output below.\n",
    "\n",
    "You can download the sample data at http://www.py4e.com/code3/words.txt"
   ]
  },
  {
   "cell_type": "code",
   "execution_count": 7,
   "id": "c79b8e84",
   "metadata": {},
   "outputs": [
    {
     "name": "stdout",
     "output_type": "stream",
     "text": [
      "Enter file name: words.txt\n",
      "WRITING PROGRAMS OR PROGRAMMING IS A VERY CREATIVE\n",
      "AND REWARDING ACTIVITY  YOU CAN WRITE PROGRAMS FOR\n",
      "MANY REASONS RANGING FROM MAKING YOUR LIVING TO SOLVING\n",
      "A DIFFICULT DATA ANALYSIS PROBLEM TO HAVING FUN TO HELPING\n",
      "SOMEONE ELSE SOLVE A PROBLEM  THIS BOOK ASSUMES THAT\n",
      "{\\EM EVERYONE} NEEDS TO KNOW HOW TO PROGRAM AND THAT ONCE\n",
      "YOU KNOW HOW TO PROGRAM, YOU WILL FIGURE OUT WHAT YOU WANT\n",
      "TO DO WITH YOUR NEWFOUND SKILLS\n",
      "\n",
      "WE ARE SURROUNDED IN OUR DAILY LIVES WITH COMPUTERS RANGING\n",
      "FROM LAPTOPS TO CELL PHONES  WE CAN THINK OF THESE COMPUTERS\n",
      "AS OUR PERSONAL ASSISTANTS WHO CAN TAKE CARE OF MANY THINGS\n",
      "ON OUR BEHALF  THE HARDWARE IN OUR CURRENT-DAY COMPUTERS\n",
      "IS ESSENTIALLY BUILT TO CONTINUOUSLY ASK US THE QUESTION\n",
      "WHAT WOULD YOU LIKE ME TO DO NEXT\n",
      "\n",
      "OUR COMPUTERS ARE FAST AND HAVE VASTS AMOUNTS OF MEMORY AND\n",
      "COULD BE VERY HELPFUL TO US IF WE ONLY KNEW THE LANGUAGE TO\n",
      "SPEAK TO EXPLAIN TO THE COMPUTER WHAT WE WOULD LIKE IT TO\n",
      "DO NEXT IF WE KNEW THIS LANGUAGE WE COULD TELL THE\n",
      "COMPUTER TO DO TASKS ON OUR BEHALF THAT WERE REPTITIVE\n",
      "INTERESTINGLY, THE KINDS OF THINGS COMPUTERS CAN DO BEST\n",
      "ARE OFTEN THE KINDS OF THINGS THAT WE HUMANS FIND BORING\n",
      "AND MIND-NUMBING\n"
     ]
    }
   ],
   "source": [
    "# Use words.txt as the file name\n",
    "fname = input(\"Enter file name: \")\n",
    "fh = open(fname)\n",
    "\n",
    "for line in fh:\n",
    "    line = line.upper()\n",
    "    line = line.rstrip()\n",
    "    print(line)                   "
   ]
  },
  {
   "cell_type": "markdown",
   "id": "fdb24bfd",
   "metadata": {},
   "source": [
    "##  Exercise 7.2\n",
    "\n",
    "Write a program that prompts for a file name, then opens that file and reads through the file, looking for lines of the form:\n",
    "\n",
    "X-DSPAM-Confidence:    0.8475\n",
    "\n",
    "1. Count these lines and \n",
    "2. extract the floating point values from each of the lines and\n",
    "3. compute the average of those values and \n",
    "4. produce an output as shown below. \n",
    "\n",
    "NOTE: Do not use the `sum()` function or a variable named sum in your solution.\n",
    "\n",
    "You can download the sample data at http://www.py4e.com/code3/mbox-short.txt when you are testing below enter mbox-short.txt as the file name."
   ]
  },
  {
   "cell_type": "code",
   "execution_count": 16,
   "id": "c10389b1",
   "metadata": {},
   "outputs": [
    {
     "name": "stdout",
     "output_type": "stream",
     "text": [
      "Average spam confidence: 0.7507185185185187\n"
     ]
    }
   ],
   "source": [
    "# Use the file name mbox-short.txt as the file name\n",
    "\n",
    "fname = 'mbox-short.txt'\n",
    "fh = open(fname)\n",
    "total = 0\n",
    "count = 0\n",
    "\n",
    "for line in fh:\n",
    "    if not line.startswith(\"X-DSPAM-Confidence:\"):\n",
    "        continue\n",
    "    count = count + 1\n",
    "    at_colon = line.find(':')\n",
    "    string_to_end = line[at_colon+1 :]\n",
    "    float_number = (float(string_to_end))\n",
    "    total = total + float_number\n",
    "\n",
    "print('Average spam confidence:', total / count)\n",
    "#print(\"Done\")\n"
   ]
  }
 ],
 "metadata": {
  "kernelspec": {
   "display_name": "Python 3",
   "language": "python",
   "name": "python3"
  },
  "language_info": {
   "codemirror_mode": {
    "name": "ipython",
    "version": 3
   },
   "file_extension": ".py",
   "mimetype": "text/x-python",
   "name": "python",
   "nbconvert_exporter": "python",
   "pygments_lexer": "ipython3",
   "version": "3.8.8"
  }
 },
 "nbformat": 4,
 "nbformat_minor": 5
}
