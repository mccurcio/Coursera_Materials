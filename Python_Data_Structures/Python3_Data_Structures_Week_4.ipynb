{
 "cells": [
  {
   "cell_type": "markdown",
   "id": "6557d51b",
   "metadata": {},
   "source": [
    "# Chapter 8 - Lists\n",
    "\n",
    "## 8.1 - Lists\n",
    "\n",
    "Collections vs Non-collections\n",
    "\n",
    "Simple varaibles are not a collection, eg. \n",
    "```\n",
    "x = 2\n",
    "print(x)\n",
    "```\n",
    "\n",
    "- Lists use `[`, `]` (square brackets)\n",
    "\n",
    "- Lists are Mutable\n",
    "\n",
    "- Use Indexing\n",
    "\n",
    "- May Contain: int, float, img, str, dictionary, lists, tuples, sets"
   ]
  },
  {
   "cell_type": "code",
   "execution_count": 1,
   "id": "e47c775d",
   "metadata": {},
   "outputs": [
    {
     "data": {
      "text/plain": [
       "'Matt'"
      ]
     },
     "execution_count": 1,
     "metadata": {},
     "output_type": "execute_result"
    }
   ],
   "source": [
    "friends = ['Matt', 'Bob', 'Mary']\n",
    "friends[0]"
   ]
  },
  {
   "cell_type": "code",
   "execution_count": 2,
   "id": "d4ad2745",
   "metadata": {},
   "outputs": [
    {
     "data": {
      "text/plain": [
       "67"
      ]
     },
     "execution_count": 2,
     "metadata": {},
     "output_type": "execute_result"
    }
   ],
   "source": [
    "whole_numbers = [1,3,5,67,2,3,77]\n",
    "whole_numbers[3]"
   ]
  },
  {
   "cell_type": "code",
   "execution_count": 6,
   "id": "7bfb07b2",
   "metadata": {},
   "outputs": [
    {
     "data": {
      "text/plain": [
       "'seats'"
      ]
     },
     "execution_count": 6,
     "metadata": {},
     "output_type": "execute_result"
    }
   ],
   "source": [
    "# Lists in lists\n",
    "car_qualities = ['red', 4, 'leather', 1.12, [2, 'seats']]\n",
    "car_qualities[4][1]"
   ]
  },
  {
   "cell_type": "code",
   "execution_count": 7,
   "id": "5e162247",
   "metadata": {},
   "outputs": [
    {
     "name": "stdout",
     "output_type": "stream",
     "text": [
      "5\n"
     ]
    }
   ],
   "source": [
    "print(len(car_qualities))"
   ]
  },
  {
   "cell_type": "code",
   "execution_count": 11,
   "id": "d770e3e1",
   "metadata": {},
   "outputs": [
    {
     "name": "stdout",
     "output_type": "stream",
     "text": [
      "range(0, 5)\n"
     ]
    }
   ],
   "source": [
    "# Using the Range Function\n",
    "\n",
    "print(range(len(car_qualities)))"
   ]
  },
  {
   "cell_type": "code",
   "execution_count": 12,
   "id": "7b9b7795",
   "metadata": {},
   "outputs": [
    {
     "name": "stdout",
     "output_type": "stream",
     "text": [
      "Hello Matt\n",
      "Hello Bob\n",
      "Hello Mary\n"
     ]
    }
   ],
   "source": [
    "# Iterating Through Lists, EXAMPLE 1\n",
    "\n",
    "friends = ['Matt', 'Bob', 'Mary']\n",
    "\n",
    "for friend in friends:\n",
    "    print('Hello', friend)"
   ]
  },
  {
   "cell_type": "code",
   "execution_count": 14,
   "id": "20370797",
   "metadata": {},
   "outputs": [
    {
     "name": "stdout",
     "output_type": "stream",
     "text": [
      "Good Day, Matt\n",
      "Good Day, Bob\n",
      "Good Day, Mary\n"
     ]
    }
   ],
   "source": [
    "# Iterating Through Lists, EXAMPLE 2\n",
    "# A counted loop\n",
    "\n",
    "for i in range(len(friends)):\n",
    "    friend = friends[i]\n",
    "    print('Good Day,', friend)"
   ]
  },
  {
   "cell_type": "markdown",
   "id": "9584131f",
   "metadata": {},
   "source": [
    "## 8.2 Manipulating Lists\n",
    "\n",
    "- List slicing\n",
    "- List concatenation using `+`"
   ]
  },
  {
   "cell_type": "code",
   "execution_count": 16,
   "id": "52951444",
   "metadata": {},
   "outputs": [
    {
     "name": "stdout",
     "output_type": "stream",
     "text": [
      "[1, 2, 3, 6, 7, 8]\n"
     ]
    }
   ],
   "source": [
    "a = [1,2,3]\n",
    "b = [6,7,8]\n",
    "\n",
    "c = a + b\n",
    "print(c)"
   ]
  },
  {
   "cell_type": "code",
   "execution_count": 22,
   "id": "e1e670f8",
   "metadata": {},
   "outputs": [
    {
     "data": {
      "text/plain": [
       "[2, 3]"
      ]
     },
     "execution_count": 22,
     "metadata": {},
     "output_type": "execute_result"
    }
   ],
   "source": [
    "c[1:3]"
   ]
  },
  {
   "cell_type": "code",
   "execution_count": 23,
   "id": "599e0e39",
   "metadata": {},
   "outputs": [
    {
     "data": {
      "text/plain": [
       "[1, 2]"
      ]
     },
     "execution_count": 23,
     "metadata": {},
     "output_type": "execute_result"
    }
   ],
   "source": [
    "c[:2]"
   ]
  },
  {
   "cell_type": "code",
   "execution_count": 24,
   "id": "98dd6b7e",
   "metadata": {},
   "outputs": [
    {
     "data": {
      "text/plain": [
       "[7, 8]"
      ]
     },
     "execution_count": 24,
     "metadata": {},
     "output_type": "execute_result"
    }
   ],
   "source": [
    "c[4:]"
   ]
  },
  {
   "cell_type": "code",
   "execution_count": 25,
   "id": "47bdfa0c",
   "metadata": {},
   "outputs": [
    {
     "data": {
      "text/plain": [
       "['__add__',\n",
       " '__class__',\n",
       " '__contains__',\n",
       " '__delattr__',\n",
       " '__delitem__',\n",
       " '__dir__',\n",
       " '__doc__',\n",
       " '__eq__',\n",
       " '__format__',\n",
       " '__ge__',\n",
       " '__getattribute__',\n",
       " '__getitem__',\n",
       " '__gt__',\n",
       " '__hash__',\n",
       " '__iadd__',\n",
       " '__imul__',\n",
       " '__init__',\n",
       " '__init_subclass__',\n",
       " '__iter__',\n",
       " '__le__',\n",
       " '__len__',\n",
       " '__lt__',\n",
       " '__mul__',\n",
       " '__ne__',\n",
       " '__new__',\n",
       " '__reduce__',\n",
       " '__reduce_ex__',\n",
       " '__repr__',\n",
       " '__reversed__',\n",
       " '__rmul__',\n",
       " '__setattr__',\n",
       " '__setitem__',\n",
       " '__sizeof__',\n",
       " '__str__',\n",
       " '__subclasshook__',\n",
       " 'append',\n",
       " 'clear',\n",
       " 'copy',\n",
       " 'count',\n",
       " 'extend',\n",
       " 'index',\n",
       " 'insert',\n",
       " 'pop',\n",
       " 'remove',\n",
       " 'reverse',\n",
       " 'sort']"
      ]
     },
     "execution_count": 25,
     "metadata": {},
     "output_type": "execute_result"
    }
   ],
   "source": [
    "dir(list)"
   ]
  },
  {
   "cell_type": "code",
   "execution_count": 31,
   "id": "cbc1e477",
   "metadata": {},
   "outputs": [
    {
     "name": "stdout",
     "output_type": "stream",
     "text": [
      "Help on class list in module builtins:\n",
      "\n",
      "class list(object)\n",
      " |  list(iterable=(), /)\n",
      " |  \n",
      " |  Built-in mutable sequence.\n",
      " |  \n",
      " |  If no argument is given, the constructor creates a new empty list.\n",
      " |  The argument must be an iterable if specified.\n",
      " |  \n",
      " |  Methods defined here:\n",
      " |  \n",
      " |  __add__(self, value, /)\n",
      " |      Return self+value.\n",
      " |  \n",
      " |  __contains__(self, key, /)\n",
      " |      Return key in self.\n",
      " |  \n",
      " |  __delitem__(self, key, /)\n",
      " |      Delete self[key].\n",
      " |  \n",
      " |  __eq__(self, value, /)\n",
      " |      Return self==value.\n",
      " |  \n",
      " |  __ge__(self, value, /)\n",
      " |      Return self>=value.\n",
      " |  \n",
      " |  __getattribute__(self, name, /)\n",
      " |      Return getattr(self, name).\n",
      " |  \n",
      " |  __getitem__(...)\n",
      " |      x.__getitem__(y) <==> x[y]\n",
      " |  \n",
      " |  __gt__(self, value, /)\n",
      " |      Return self>value.\n",
      " |  \n",
      " |  __iadd__(self, value, /)\n",
      " |      Implement self+=value.\n",
      " |  \n",
      " |  __imul__(self, value, /)\n",
      " |      Implement self*=value.\n",
      " |  \n",
      " |  __init__(self, /, *args, **kwargs)\n",
      " |      Initialize self.  See help(type(self)) for accurate signature.\n",
      " |  \n",
      " |  __iter__(self, /)\n",
      " |      Implement iter(self).\n",
      " |  \n",
      " |  __le__(self, value, /)\n",
      " |      Return self<=value.\n",
      " |  \n",
      " |  __len__(self, /)\n",
      " |      Return len(self).\n",
      " |  \n",
      " |  __lt__(self, value, /)\n",
      " |      Return self<value.\n",
      " |  \n",
      " |  __mul__(self, value, /)\n",
      " |      Return self*value.\n",
      " |  \n",
      " |  __ne__(self, value, /)\n",
      " |      Return self!=value.\n",
      " |  \n",
      " |  __repr__(self, /)\n",
      " |      Return repr(self).\n",
      " |  \n",
      " |  __reversed__(self, /)\n",
      " |      Return a reverse iterator over the list.\n",
      " |  \n",
      " |  __rmul__(self, value, /)\n",
      " |      Return value*self.\n",
      " |  \n",
      " |  __setitem__(self, key, value, /)\n",
      " |      Set self[key] to value.\n",
      " |  \n",
      " |  __sizeof__(self, /)\n",
      " |      Return the size of the list in memory, in bytes.\n",
      " |  \n",
      " |  append(self, object, /)\n",
      " |      Append object to the end of the list.\n",
      " |  \n",
      " |  clear(self, /)\n",
      " |      Remove all items from list.\n",
      " |  \n",
      " |  copy(self, /)\n",
      " |      Return a shallow copy of the list.\n",
      " |  \n",
      " |  count(self, value, /)\n",
      " |      Return number of occurrences of value.\n",
      " |  \n",
      " |  extend(self, iterable, /)\n",
      " |      Extend list by appending elements from the iterable.\n",
      " |  \n",
      " |  index(self, value, start=0, stop=9223372036854775807, /)\n",
      " |      Return first index of value.\n",
      " |      \n",
      " |      Raises ValueError if the value is not present.\n",
      " |  \n",
      " |  insert(self, index, object, /)\n",
      " |      Insert object before index.\n",
      " |  \n",
      " |  pop(self, index=-1, /)\n",
      " |      Remove and return item at index (default last).\n",
      " |      \n",
      " |      Raises IndexError if list is empty or index is out of range.\n",
      " |  \n",
      " |  remove(self, value, /)\n",
      " |      Remove first occurrence of value.\n",
      " |      \n",
      " |      Raises ValueError if the value is not present.\n",
      " |  \n",
      " |  reverse(self, /)\n",
      " |      Reverse *IN PLACE*.\n",
      " |  \n",
      " |  sort(self, /, *, key=None, reverse=False)\n",
      " |      Sort the list in ascending order and return None.\n",
      " |      \n",
      " |      The sort is in-place (i.e. the list itself is modified) and stable (i.e. the\n",
      " |      order of two equal elements is maintained).\n",
      " |      \n",
      " |      If a key function is given, apply it once to each list item and sort them,\n",
      " |      ascending or descending, according to their function values.\n",
      " |      \n",
      " |      The reverse flag can be set to sort in descending order.\n",
      " |  \n",
      " |  ----------------------------------------------------------------------\n",
      " |  Static methods defined here:\n",
      " |  \n",
      " |  __new__(*args, **kwargs) from builtins.type\n",
      " |      Create and return a new object.  See help(type) for accurate signature.\n",
      " |  \n",
      " |  ----------------------------------------------------------------------\n",
      " |  Data and other attributes defined here:\n",
      " |  \n",
      " |  __hash__ = None\n",
      "\n"
     ]
    }
   ],
   "source": [
    "help(list)"
   ]
  },
  {
   "cell_type": "code",
   "execution_count": 27,
   "id": "7d2778d6",
   "metadata": {},
   "outputs": [
    {
     "name": "stdout",
     "output_type": "stream",
     "text": [
      "['car', 167000]\n"
     ]
    }
   ],
   "source": [
    "# Building a List from Scratch\n",
    "\n",
    "my_stuff = list()\n",
    "my_stuff.append('car')\n",
    "my_stuff.append(167000)\n",
    "\n",
    "print(my_stuff)"
   ]
  },
  {
   "cell_type": "code",
   "execution_count": 32,
   "id": "64662c2e",
   "metadata": {},
   "outputs": [
    {
     "data": {
      "text/plain": [
       "1"
      ]
     },
     "execution_count": 32,
     "metadata": {},
     "output_type": "execute_result"
    }
   ],
   "source": [
    "my_stuff.count('car')"
   ]
  },
  {
   "cell_type": "code",
   "execution_count": 33,
   "id": "1a2abd0f",
   "metadata": {},
   "outputs": [
    {
     "data": {
      "text/plain": [
       "167000"
      ]
     },
     "execution_count": 33,
     "metadata": {},
     "output_type": "execute_result"
    }
   ],
   "source": [
    "# Using `pop` with Lists\n",
    "\n",
    "my_stuff.pop() # removes the last item of the list"
   ]
  },
  {
   "cell_type": "code",
   "execution_count": 34,
   "id": "ed2012aa",
   "metadata": {},
   "outputs": [
    {
     "data": {
      "text/plain": [
       "['car']"
      ]
     },
     "execution_count": 34,
     "metadata": {},
     "output_type": "execute_result"
    }
   ],
   "source": [
    "my_stuff"
   ]
  },
  {
   "cell_type": "code",
   "execution_count": 36,
   "id": "cefd3a31",
   "metadata": {},
   "outputs": [
    {
     "name": "stdout",
     "output_type": "stream",
     "text": [
      "['car', 167000, 56, 30]\n"
     ]
    }
   ],
   "source": [
    "# Using `clear` to remove ALL items from a list\n",
    "\n",
    "my_stuff = ['car', 167000, 56, 30]\n",
    "print(my_stuff)"
   ]
  },
  {
   "cell_type": "code",
   "execution_count": 38,
   "id": "80a8e487",
   "metadata": {},
   "outputs": [
    {
     "name": "stdout",
     "output_type": "stream",
     "text": [
      "None\n"
     ]
    }
   ],
   "source": [
    "print(my_stuff.clear())"
   ]
  },
  {
   "cell_type": "code",
   "execution_count": 48,
   "id": "401e760f",
   "metadata": {},
   "outputs": [
    {
     "name": "stdout",
     "output_type": "stream",
     "text": [
      "['cherry', 'banana', 'apple']\n"
     ]
    }
   ],
   "source": [
    "# Reverse Lists\n",
    "\n",
    "fruits = ['apple', 'banana', 'cherry']\n",
    "\n",
    "fruits.reverse()\n",
    "\n",
    "print(fruits)"
   ]
  },
  {
   "cell_type": "code",
   "execution_count": 50,
   "id": "c9a949b4",
   "metadata": {},
   "outputs": [
    {
     "name": "stdout",
     "output_type": "stream",
     "text": [
      "['BMW', 'Ford', 'Volvo']\n"
     ]
    }
   ],
   "source": [
    "# Sort lists\n",
    "\n",
    "cars = ['Ford', 'BMW', 'Volvo']\n",
    "\n",
    "cars.sort() \n",
    "\n",
    "print(cars)"
   ]
  },
  {
   "cell_type": "code",
   "execution_count": 54,
   "id": "979b1808",
   "metadata": {},
   "outputs": [
    {
     "name": "stdout",
     "output_type": "stream",
     "text": [
      "3\n"
     ]
    }
   ],
   "source": [
    "# Count command in Lists\n",
    "fruits = ['apple', 'banana', 'cherry', 'cherry', 'cherry']\n",
    "\n",
    "x = fruits.count('cherry')\n",
    "\n",
    "print(x)"
   ]
  },
  {
   "cell_type": "code",
   "execution_count": 55,
   "id": "5ac47a1f",
   "metadata": {},
   "outputs": [
    {
     "name": "stdout",
     "output_type": "stream",
     "text": [
      "['apple', 'banana', 'cherry', 'Ford', 'BMW', 'Volvo']\n"
     ]
    }
   ],
   "source": [
    "# Extending command for Lists\n",
    "\n",
    "fruits = ['apple', 'banana', 'cherry']\n",
    "\n",
    "cars = ['Ford', 'BMW', 'Volvo']\n",
    "\n",
    "fruits.extend(cars)\n",
    "\n",
    "print(fruits)"
   ]
  },
  {
   "cell_type": "code",
   "execution_count": 58,
   "id": "c36dd6b1",
   "metadata": {},
   "outputs": [
    {
     "name": "stdout",
     "output_type": "stream",
     "text": [
      "['apple', 'orange', 'banana', 'cherry']\n"
     ]
    }
   ],
   "source": [
    "# Insert command for lists\n",
    "\n",
    "fruits = ['apple', 'banana', 'cherry']\n",
    "\n",
    "fruits.insert(1, \"orange\") \n",
    "\n",
    "print(fruits)"
   ]
  },
  {
   "cell_type": "markdown",
   "id": "19c2fe4c",
   "metadata": {},
   "source": [
    "## Testing for something in a List"
   ]
  },
  {
   "cell_type": "code",
   "execution_count": 59,
   "id": "d706accc",
   "metadata": {},
   "outputs": [
    {
     "data": {
      "text/plain": [
       "True"
      ]
     },
     "execution_count": 59,
     "metadata": {},
     "output_type": "execute_result"
    }
   ],
   "source": [
    "bunches = [1,3,4,6565,365,5,8,99]\n",
    "99 in bunches"
   ]
  },
  {
   "cell_type": "code",
   "execution_count": 62,
   "id": "861469e9",
   "metadata": {},
   "outputs": [
    {
     "data": {
      "text/plain": [
       "False"
      ]
     },
     "execution_count": 62,
     "metadata": {},
     "output_type": "execute_result"
    }
   ],
   "source": [
    "2 in bunches"
   ]
  },
  {
   "cell_type": "code",
   "execution_count": 60,
   "id": "fe82bb0e",
   "metadata": {},
   "outputs": [
    {
     "data": {
      "text/plain": [
       "True"
      ]
     },
     "execution_count": 60,
     "metadata": {},
     "output_type": "execute_result"
    }
   ],
   "source": [
    "20 not in bunches"
   ]
  },
  {
   "cell_type": "code",
   "execution_count": 68,
   "id": "ac85eb10",
   "metadata": {},
   "outputs": [
    {
     "name": "stdout",
     "output_type": "stream",
     "text": [
      "6565\n",
      "1\n",
      "Average = 881.25\n"
     ]
    }
   ],
   "source": [
    "# What is the max?\n",
    "print(max(bunches))\n",
    "\n",
    "print(min(bunches))\n",
    "\n",
    "print('Average =', sum(bunches)/len(bunches))"
   ]
  },
  {
   "cell_type": "code",
   "execution_count": 69,
   "id": "8d684e87",
   "metadata": {},
   "outputs": [
    {
     "name": "stdout",
     "output_type": "stream",
     "text": [
      "Enter a number:498\n",
      "Enter a number:2184\n",
      "Enter a number:done\n",
      "Average = 1341.0\n"
     ]
    }
   ],
   "source": [
    "# Simple Example of Iteration using While loops\n",
    "\n",
    "total = 0\n",
    "count = 0\n",
    "while True:\n",
    "    inp = input('Enter a number:')\n",
    "    if inp == 'done':\n",
    "        break\n",
    "    value = float(inp)\n",
    "    total = total + value\n",
    "    count = count + 1\n",
    "    \n",
    "average = total / count\n",
    "print('Average =', average)"
   ]
  },
  {
   "cell_type": "code",
   "execution_count": 71,
   "id": "ac262c90",
   "metadata": {},
   "outputs": [
    {
     "name": "stdout",
     "output_type": "stream",
     "text": [
      "Enter a number:1919685\n",
      "Enter a number:484\n",
      "Enter a number:9549\n",
      "Enter a number:done\n",
      "Average = 643239.3333333334\n"
     ]
    }
   ],
   "source": [
    "# Using Lists for Iteration\n",
    "# Without Using count and total\n",
    "\n",
    "numlist = list()\n",
    "while True:\n",
    "    inp = input('Enter a number:')\n",
    "    if inp == 'done':\n",
    "        break\n",
    "    value = float(inp)\n",
    "    numlist.append(value)\n",
    "    \n",
    "average = sum(numlist) / len(numlist)\n",
    "print('Average =', average)"
   ]
  },
  {
   "cell_type": "markdown",
   "id": "d429a02c",
   "metadata": {},
   "source": [
    "## 8.3 - Lists and Strings\n",
    "\n",
    "- split() command\n",
    "- splits on white space by default\n",
    "- can change 'delimiter' for splitting\n",
    "\n",
    "### Major ideas\n",
    "- list and definite loops\n",
    "- indexing and lookup\n",
    "- list mutability\n",
    "- slicing\n",
    "- list methods\n",
    "- sorting lists\n",
    "- splitting lists\n",
    "- parsing lists into strings"
   ]
  },
  {
   "cell_type": "code",
   "execution_count": 75,
   "id": "cb1872d1",
   "metadata": {},
   "outputs": [
    {
     "name": "stdout",
     "output_type": "stream",
     "text": [
      "['this', 'sentence', 'is', 'long']\n",
      "4\n",
      "this\n"
     ]
    }
   ],
   "source": [
    "## IMPORTANT \n",
    "\n",
    "abc = 'this sentence is long'\n",
    "words = abc.split() # RETURNS LIST\n",
    "print(words)\n",
    "print(len(words))\n",
    "\n",
    "print(words[0])"
   ]
  },
  {
   "cell_type": "code",
   "execution_count": 76,
   "id": "66ae1ef6",
   "metadata": {},
   "outputs": [
    {
     "name": "stdout",
     "output_type": "stream",
     "text": [
      "this\n",
      "sentence\n",
      "is\n",
      "long\n"
     ]
    }
   ],
   "source": [
    "for w in words:\n",
    "    print(w)"
   ]
  },
  {
   "cell_type": "code",
   "execution_count": 79,
   "id": "e3baba64",
   "metadata": {},
   "outputs": [
    {
     "name": "stdout",
     "output_type": "stream",
     "text": [
      "['one', ' two', ' three', ' four']\n"
     ]
    }
   ],
   "source": [
    "line1 = 'one; two; three; four'\n",
    "nums = line1.split(';')\n",
    "print(nums)"
   ]
  },
  {
   "cell_type": "code",
   "execution_count": 81,
   "id": "dc41be94",
   "metadata": {},
   "outputs": [
    {
     "name": "stdout",
     "output_type": "stream",
     "text": [
      "Sat\n",
      "Fri\n",
      "Fri\n",
      "Fri\n",
      "Fri\n",
      "Fri\n",
      "Fri\n",
      "Fri\n",
      "Fri\n",
      "Fri\n",
      "Fri\n",
      "Fri\n",
      "Fri\n",
      "Fri\n",
      "Fri\n",
      "Fri\n",
      "Fri\n",
      "Fri\n",
      "Fri\n",
      "Fri\n",
      "Fri\n",
      "Thu\n",
      "Thu\n",
      "Thu\n",
      "Thu\n",
      "Thu\n",
      "Thu\n"
     ]
    }
   ],
   "source": [
    "fhand = open('mbox-short.txt')\n",
    "\n",
    "# Looking for the day of the week in 'From' lines\n",
    "for line in fhand:\n",
    "    line = line.rstrip()\n",
    "    if not line.startswith('From '):\n",
    "        continue\n",
    "    words = line.split()\n",
    "    print(words[2])"
   ]
  },
  {
   "cell_type": "code",
   "execution_count": 87,
   "id": "fed207a5",
   "metadata": {},
   "outputs": [
    {
     "name": "stdout",
     "output_type": "stream",
     "text": [
      "name.name2@host.name.edu\n",
      "host.name.edu\n"
     ]
    }
   ],
   "source": [
    "## The Double Split Pattern\n",
    "\n",
    "## Using the 'From' line to look for hostname\n",
    "line = 'From name.name2@host.name.edu Sat Jan 5 09:15:12 2021'\n",
    "\n",
    "words = line.split()\n",
    "email = words[1] # finds email only\n",
    "print(email)\n",
    "\n",
    "pieces = email.split('@') # finds host name only\n",
    "print(pieces[1])"
   ]
  },
  {
   "cell_type": "markdown",
   "id": "374028c6",
   "metadata": {},
   "source": [
    "### Chapter 8 Quiz"
   ]
  },
  {
   "cell_type": "markdown",
   "id": "112ca072",
   "metadata": {},
   "source": [
    "1. How are \"collection\" variables different from normal variables?  \n",
    "    A. Collection variables can store multiple values in a single variable\n",
    "    \n",
    "2. What are the Python keywords used to construct a loop to iterate through a list?\n",
    "    A. for / in\n",
    "    \n",
    "3. For the following list, how would you print out 'Sally'?"
   ]
  },
  {
   "cell_type": "code",
   "execution_count": 88,
   "id": "a5f02191",
   "metadata": {},
   "outputs": [
    {
     "name": "stdout",
     "output_type": "stream",
     "text": [
      "Sally\n"
     ]
    }
   ],
   "source": [
    "friends = [ 'Joseph', 'Glenn', 'Sally' ]\n",
    "print(friends[2])"
   ]
  },
  {
   "cell_type": "markdown",
   "id": "1af59018",
   "metadata": {},
   "source": [
    "4. What would the following Python code print out?"
   ]
  },
  {
   "cell_type": "code",
   "execution_count": 90,
   "id": "2eab28dc",
   "metadata": {},
   "outputs": [
    {
     "ename": "NameError",
     "evalue": "name 'fruit' is not defined",
     "output_type": "error",
     "traceback": [
      "\u001b[0;31m---------------------------------------------------------------------------\u001b[0m",
      "\u001b[0;31mNameError\u001b[0m                                 Traceback (most recent call last)",
      "\u001b[0;32m<ipython-input-90-cc81ecde1c30>\u001b[0m in \u001b[0;36m<module>\u001b[0;34m\u001b[0m\n\u001b[0;32m----> 1\u001b[0;31m \u001b[0mprint\u001b[0m\u001b[0;34m(\u001b[0m\u001b[0mfruit\u001b[0m\u001b[0;34m)\u001b[0m\u001b[0;34m\u001b[0m\u001b[0;34m\u001b[0m\u001b[0m\n\u001b[0m\u001b[1;32m      2\u001b[0m \u001b[0;31m## A. Nothing would print - the program fails with a traceback error\u001b[0m\u001b[0;34m\u001b[0m\u001b[0;34m\u001b[0m\u001b[0;34m\u001b[0m\u001b[0m\n",
      "\u001b[0;31mNameError\u001b[0m: name 'fruit' is not defined"
     ]
    }
   ],
   "source": [
    "print(fruit)\n",
    "## A. Nothing would print - the program fails with a traceback error"
   ]
  },
  {
   "cell_type": "markdown",
   "id": "16c38b44",
   "metadata": {},
   "source": [
    "5. Which of the following Python statements would print out the length of a list stored in the variable data?"
   ]
  },
  {
   "cell_type": "code",
   "execution_count": 91,
   "id": "54643c1c",
   "metadata": {},
   "outputs": [
    {
     "name": "stdout",
     "output_type": "stream",
     "text": [
      "6\n"
     ]
    }
   ],
   "source": [
    "data = (1,2,3,4,5,6)\n",
    "print(len(data))"
   ]
  },
  {
   "cell_type": "markdown",
   "id": "d8251ed2",
   "metadata": {},
   "source": [
    "6.What type of data is produced when you call the range() function?"
   ]
  },
  {
   "cell_type": "code",
   "execution_count": 93,
   "id": "55ea38ee",
   "metadata": {},
   "outputs": [
    {
     "name": "stdout",
     "output_type": "stream",
     "text": [
      "[0, 1, 2, 3, 4]\n"
     ]
    }
   ],
   "source": [
    "x = list(range(5))\n",
    "print(x)"
   ]
  },
  {
   "cell_type": "markdown",
   "id": "9c4bd7f9",
   "metadata": {},
   "source": [
    "7.What does the following Python code print out?"
   ]
  },
  {
   "cell_type": "code",
   "execution_count": 94,
   "id": "1154ecec",
   "metadata": {},
   "outputs": [
    {
     "name": "stdout",
     "output_type": "stream",
     "text": [
      "6\n"
     ]
    }
   ],
   "source": [
    "a = [1, 2, 3]\n",
    "b = [4, 5, 6]\n",
    "c = a + b\n",
    "print(len(c))"
   ]
  },
  {
   "cell_type": "markdown",
   "id": "202095b6",
   "metadata": {},
   "source": [
    "8.Which of the following slicing operations will produce the list [12, 3]?"
   ]
  },
  {
   "cell_type": "code",
   "execution_count": 96,
   "id": "709bcd8b",
   "metadata": {},
   "outputs": [
    {
     "data": {
      "text/plain": [
       "[12, 3]"
      ]
     },
     "execution_count": 96,
     "metadata": {},
     "output_type": "execute_result"
    }
   ],
   "source": [
    "t = [9, 41, 12, 3, 74, 15]\n",
    "\n",
    "t[2:4]"
   ]
  },
  {
   "cell_type": "markdown",
   "id": "c86b8c7d",
   "metadata": {},
   "source": [
    "9. What list method adds a new item to the end of an existing list?   \n",
    "    A. append()"
   ]
  },
  {
   "cell_type": "markdown",
   "id": "146cdd23",
   "metadata": {},
   "source": [
    "10.What will the following Python code print out?"
   ]
  },
  {
   "cell_type": "code",
   "execution_count": 98,
   "id": "8f8d04f9",
   "metadata": {},
   "outputs": [
    {
     "name": "stdout",
     "output_type": "stream",
     "text": [
      "Glenn\n"
     ]
    }
   ],
   "source": [
    "friends = [ 'Joseph', 'Glenn', 'Sally' ]\n",
    "friends.sort()\n",
    "print(friends[0])"
   ]
  },
  {
   "cell_type": "markdown",
   "id": "6e916965",
   "metadata": {},
   "source": [
    "## Exercise 8.4 \n",
    "\n",
    "- Open the file 'romeo.txt' and read it line by line. \n",
    "- For each line, split the line into a list of words using the split() method. \n",
    "- The program should build a list of words. \n",
    "- For each word on each line check to see if the word is already in the list and if not append it to the list. \n",
    "- When the program completes, sort and print the resulting words in alphabetical order.\n",
    "\n",
    "You can download the sample data at http://www.py4e.com/code3/romeo.txt"
   ]
  },
  {
   "cell_type": "code",
   "execution_count": 17,
   "id": "6bc10beb",
   "metadata": {},
   "outputs": [
    {
     "name": "stdout",
     "output_type": "stream",
     "text": [
      "['Who', 'is', 'already', 'sick', 'and', 'pale', 'with', 'grief']\n"
     ]
    }
   ],
   "source": [
    "fname = 'romeo.txt'\n",
    "fh = open(fname)\n",
    "lst = list() # initialize word lst\n",
    "\n",
    "for line in fh:\n",
    "    line.rstrip()\n",
    "    words = line.split()\n",
    "    lst = lst + words\n",
    "\n",
    "print(words)"
   ]
  },
  {
   "cell_type": "code",
   "execution_count": 37,
   "id": "b524b17a",
   "metadata": {},
   "outputs": [
    {
     "name": "stdout",
     "output_type": "stream",
     "text": [
      "['Arise', 'But', 'It', 'Juliet', 'Who', 'already', 'and', 'breaks', 'east', 'envious', 'fair', 'grief', 'is', 'kill', 'light', 'moon', 'pale', 'sick', 'soft', 'sun', 'the', 'through', 'what', 'window', 'with', 'yonder']\n"
     ]
    }
   ],
   "source": [
    "fname = 'romeo.txt'\n",
    "fh = open(fname)\n",
    "lst = list() # initialize lst\n",
    "\n",
    "for line in fh:\n",
    "    line.rstrip()\n",
    "    words = line.split()\n",
    "    lst = lst + words\n",
    "\n",
    "res = list()\n",
    "for i in lst:\n",
    "    if i not in res:\n",
    "        res.append(i)\n",
    "res.sort()\n",
    "print(res)"
   ]
  },
  {
   "cell_type": "code",
   "execution_count": 38,
   "id": "709429ff",
   "metadata": {},
   "outputs": [
    {
     "name": "stdout",
     "output_type": "stream",
     "text": [
      "['a', 'b', 'c']\n"
     ]
    }
   ],
   "source": [
    "# How to lower case with lists\n",
    "\n",
    "list1 = [\"A\", \"B\", \"C\"]\n",
    "\n",
    "for i in range(len(list1)):\n",
    "    list1[i] = list1[i].lower()\n",
    "\n",
    "print(list1)"
   ]
  },
  {
   "cell_type": "markdown",
   "id": "d05bd197",
   "metadata": {},
   "source": [
    "## Exercise 8.5 \n",
    "\n",
    "- Open the file mbox-short.txt and read it line by line. \n",
    "\n",
    "- When you find a line that starts with 'From ' like the following line:\n",
    "\n",
    "- From stephen.marquard@uct.ac.za Sat Jan  5 09:14:16 2008\n",
    "\n",
    "- You will parse the From line using split() and print out the second word in the line (i.e. the entire address of the person who sent the message). \n",
    "\n",
    "- Then print out a count at the end.\n",
    "\n",
    "**Hint**: make sure not to include the lines that start with 'From:'. Also look at the last line of the sample output to see how to print the count.\n",
    "\n",
    "You can download the sample data at http://www.py4e.com/code3/mbox-short.txt"
   ]
  },
  {
   "cell_type": "code",
   "execution_count": 47,
   "id": "8e59d671",
   "metadata": {},
   "outputs": [
    {
     "name": "stdout",
     "output_type": "stream",
     "text": [
      "stephen.marquard@uct.ac.za\n",
      "louis@media.berkeley.edu\n",
      "zqian@umich.edu\n",
      "rjlowe@iupui.edu\n",
      "zqian@umich.edu\n",
      "rjlowe@iupui.edu\n",
      "cwen@iupui.edu\n",
      "cwen@iupui.edu\n",
      "gsilver@umich.edu\n",
      "gsilver@umich.edu\n",
      "zqian@umich.edu\n",
      "gsilver@umich.edu\n",
      "wagnermr@iupui.edu\n",
      "zqian@umich.edu\n",
      "antranig@caret.cam.ac.uk\n",
      "gopal.ramasammycook@gmail.com\n",
      "david.horwitz@uct.ac.za\n",
      "david.horwitz@uct.ac.za\n",
      "david.horwitz@uct.ac.za\n",
      "david.horwitz@uct.ac.za\n",
      "stephen.marquard@uct.ac.za\n",
      "louis@media.berkeley.edu\n",
      "louis@media.berkeley.edu\n",
      "ray@media.berkeley.edu\n",
      "cwen@iupui.edu\n",
      "cwen@iupui.edu\n",
      "cwen@iupui.edu\n",
      "There were 27 lines in the file with From as the first word\n"
     ]
    }
   ],
   "source": [
    "fname = \"mbox-short.txt\"\n",
    "\n",
    "fh = open(fname)\n",
    "count = 0\n",
    "\n",
    "for line in fh:\n",
    "    line.rstrip()\n",
    "    if not line.startswith('From '):\n",
    "        continue\n",
    "    words = line.split()\n",
    "    print(words[1])\n",
    "    count = count + 1\n",
    "\n",
    "print(\"There were\", count, \"lines in the file with From as the first word\")\n"
   ]
  },
  {
   "cell_type": "code",
   "execution_count": 64,
   "id": "b023cae7",
   "metadata": {},
   "outputs": [
    {
     "name": "stdout",
     "output_type": "stream",
     "text": [
      "Sat\n",
      "Fri\n",
      "Fri\n",
      "Fri\n",
      "Fri\n",
      "Fri\n",
      "Fri\n",
      "Fri\n",
      "Fri\n",
      "Fri\n",
      "Fri\n",
      "Fri\n",
      "Fri\n",
      "Fri\n",
      "Fri\n",
      "Fri\n",
      "Fri\n",
      "Fri\n",
      "Fri\n",
      "Fri\n",
      "Fri\n",
      "Thu\n",
      "Thu\n",
      "Thu\n",
      "Thu\n",
      "Thu\n",
      "Thu\n"
     ]
    }
   ],
   "source": [
    "## Worked Exercises\n",
    "\n",
    "han = open('mbox-short.txt')\n",
    "\n",
    "for line in han:\n",
    "    line = line.rstrip()\n",
    "    #print('Line:', line)\n",
    "    ### OR Skip blank line\n",
    "    if line == '':\n",
    "        #print('Skip blank lines')\n",
    "        continue\n",
    "    wds = line.split()\n",
    "    #print('Words:', wds)\n",
    "    \n",
    "    # Guargian Pattern in Compound Statement\n",
    "    \n",
    "    ## Use this line below to guard against NO words\n",
    "    #if len(wds) < 3: #Use 1 or 3 for different purposes\n",
    "    #    continue\n",
    "    if wds[0] != 'From' or len(wds) < 3:\n",
    "        #print('Ingore line!!!')\n",
    "        continue\n",
    "    print(wds[2])    "
   ]
  },
  {
   "cell_type": "code",
   "execution_count": null,
   "id": "dbd13493",
   "metadata": {},
   "outputs": [],
   "source": []
  }
 ],
 "metadata": {
  "kernelspec": {
   "display_name": "Python 3",
   "language": "python",
   "name": "python3"
  },
  "language_info": {
   "codemirror_mode": {
    "name": "ipython",
    "version": 3
   },
   "file_extension": ".py",
   "mimetype": "text/x-python",
   "name": "python",
   "nbconvert_exporter": "python",
   "pygments_lexer": "ipython3",
   "version": "3.8.8"
  }
 },
 "nbformat": 4,
 "nbformat_minor": 5
}
