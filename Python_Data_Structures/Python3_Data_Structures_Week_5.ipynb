{
 "cells": [
  {
   "cell_type": "markdown",
   "id": "6bbeb9f2",
   "metadata": {},
   "source": [
    "## 9.1 - Dictionaries\n",
    "\n",
    "- Lists and Dictionaries are the tow most important data structures in Python.\n",
    "\n",
    "- Dictionaries are 'bags' of values with its own label.\n",
    "\n",
    "- dictionary is 'key:value' pairs\n",
    "\n",
    "- See: [Associative Arrays](https://en.wikipedia.org/wiki/Associative_array)\n",
    "\n",
    "- Dictionaries have different names in different languages\n",
    "    - AA in Perl and PHP\n",
    "    - Properties or Maps or Hashmaps  in Java\n",
    "    - Property bag in C# and .Net\n"
   ]
  },
  {
   "cell_type": "code",
   "execution_count": 1,
   "id": "053dd2b4",
   "metadata": {},
   "outputs": [
    {
     "name": "stdout",
     "output_type": "stream",
     "text": [
      "{'money': 12, 'candy': 3, 'clothes': 5}\n"
     ]
    }
   ],
   "source": [
    "purse = dict()\n",
    "# dict_name['key'] = value\n",
    "purse['money'] = 12\n",
    "purse['candy'] = 3\n",
    "purse['clothes'] = 5\n",
    "\n",
    "print(purse)"
   ]
  },
  {
   "cell_type": "code",
   "execution_count": 3,
   "id": "e8d56514",
   "metadata": {},
   "outputs": [
    {
     "name": "stdout",
     "output_type": "stream",
     "text": [
      "{'money': 37, 'candy': 8, 'clothes': 5}\n"
     ]
    }
   ],
   "source": [
    "purse['money'] = purse['money'] + 25\n",
    "print(purse)"
   ]
  },
  {
   "cell_type": "markdown",
   "id": "7be0aa93",
   "metadata": {},
   "source": [
    "![](compariason_list_v_dictionary.png)"
   ]
  },
  {
   "cell_type": "markdown",
   "id": "b610997f",
   "metadata": {},
   "source": [
    "![](comparison_list_v_dict_2.png)"
   ]
  },
  {
   "cell_type": "code",
   "execution_count": 7,
   "id": "b63659e2",
   "metadata": {},
   "outputs": [
    {
     "name": "stdout",
     "output_type": "stream",
     "text": [
      "{'chuck': 2, 'mat': 'four', 'joe': (7, 3, 8)}\n",
      "{}\n"
     ]
    }
   ],
   "source": [
    "# Another way to generate Dictionaries\n",
    "\n",
    "ddd = {'chuck':2,\n",
    "       'mat':'four',\n",
    "       'joe':(7,3,8)}\n",
    "ooo = {} # Empty dict or to initialize a dict\n",
    "\n",
    "print(ddd)\n",
    "print(ooo)"
   ]
  },
  {
   "cell_type": "code",
   "execution_count": 49,
   "id": "8570801e",
   "metadata": {},
   "outputs": [
    {
     "name": "stdout",
     "output_type": "stream",
     "text": [
      "chuck\n",
      "mat\n",
      "joe\n"
     ]
    }
   ],
   "source": [
    "ddd = {'chuck':2,\n",
    "       'mat':'four',\n",
    "       'joe':(7,3,8)}\n",
    "for y in ddd:\n",
    "    print(y)"
   ]
  },
  {
   "cell_type": "code",
   "execution_count": 50,
   "id": "225255ef",
   "metadata": {},
   "outputs": [
    {
     "data": {
      "text/plain": [
       "dict_values([2, 'four', (7, 3, 8)])"
      ]
     },
     "execution_count": 50,
     "metadata": {},
     "output_type": "execute_result"
    }
   ],
   "source": [
    "ddd.values()"
   ]
  },
  {
   "cell_type": "code",
   "execution_count": 51,
   "id": "dfc30fb3",
   "metadata": {},
   "outputs": [
    {
     "ename": "AttributeError",
     "evalue": "'dict' object has no attribute 'each'",
     "output_type": "error",
     "traceback": [
      "\u001b[0;31m---------------------------------------------------------------------------\u001b[0m",
      "\u001b[0;31mAttributeError\u001b[0m                            Traceback (most recent call last)",
      "\u001b[0;32m<ipython-input-51-cec224d64fbe>\u001b[0m in \u001b[0;36m<module>\u001b[0;34m\u001b[0m\n\u001b[0;32m----> 1\u001b[0;31m \u001b[0mddd\u001b[0m\u001b[0;34m.\u001b[0m\u001b[0meach\u001b[0m\u001b[0;34m(\u001b[0m\u001b[0;34m)\u001b[0m\u001b[0;34m\u001b[0m\u001b[0;34m\u001b[0m\u001b[0m\n\u001b[0m",
      "\u001b[0;31mAttributeError\u001b[0m: 'dict' object has no attribute 'each'"
     ]
    }
   ],
   "source": [
    "ddd.each()"
   ]
  },
  {
   "cell_type": "code",
   "execution_count": 52,
   "id": "39335833",
   "metadata": {},
   "outputs": [
    {
     "ename": "AttributeError",
     "evalue": "'dict' object has no attribute 'all'",
     "output_type": "error",
     "traceback": [
      "\u001b[0;31m---------------------------------------------------------------------------\u001b[0m",
      "\u001b[0;31mAttributeError\u001b[0m                            Traceback (most recent call last)",
      "\u001b[0;32m<ipython-input-52-6d5cb6c05e7b>\u001b[0m in \u001b[0;36m<module>\u001b[0;34m\u001b[0m\n\u001b[0;32m----> 1\u001b[0;31m \u001b[0mddd\u001b[0m\u001b[0;34m.\u001b[0m\u001b[0mall\u001b[0m\u001b[0;34m(\u001b[0m\u001b[0;34m)\u001b[0m\u001b[0;34m\u001b[0m\u001b[0;34m\u001b[0m\u001b[0m\n\u001b[0m",
      "\u001b[0;31mAttributeError\u001b[0m: 'dict' object has no attribute 'all'"
     ]
    }
   ],
   "source": [
    "ddd.all()"
   ]
  },
  {
   "cell_type": "code",
   "execution_count": 53,
   "id": "8c64d943",
   "metadata": {},
   "outputs": [
    {
     "data": {
      "text/plain": [
       "dict_values([2, 'four', (7, 3, 8)])"
      ]
     },
     "execution_count": 53,
     "metadata": {},
     "output_type": "execute_result"
    }
   ],
   "source": [
    "ddd.values()"
   ]
  },
  {
   "cell_type": "code",
   "execution_count": 54,
   "id": "fcebf83c",
   "metadata": {},
   "outputs": [
    {
     "data": {
      "text/plain": [
       "dict_items([('chuck', 2), ('mat', 'four'), ('joe', (7, 3, 8))])"
      ]
     },
     "execution_count": 54,
     "metadata": {},
     "output_type": "execute_result"
    }
   ],
   "source": [
    "ddd.items()"
   ]
  },
  {
   "cell_type": "code",
   "execution_count": 55,
   "id": "dac9f301",
   "metadata": {},
   "outputs": [
    {
     "data": {
      "text/plain": [
       "dict_keys(['chuck', 'mat', 'joe'])"
      ]
     },
     "execution_count": 55,
     "metadata": {},
     "output_type": "execute_result"
    }
   ],
   "source": [
    "ddd.keys()"
   ]
  },
  {
   "cell_type": "markdown",
   "id": "5ed0fbfe",
   "metadata": {},
   "source": [
    "## 9.2 - Counting with Dictionaries\n",
    "\n",
    "- Histogram Problem - counting individuals\n",
    "- "
   ]
  },
  {
   "cell_type": "code",
   "execution_count": 18,
   "id": "411a4e9e",
   "metadata": {},
   "outputs": [
    {
     "name": "stdout",
     "output_type": "stream",
     "text": [
      "{'matt': 2, 'bob': 1, 'mary': 1, 'jane': 3}\n"
     ]
    }
   ],
   "source": [
    "counts = dict()\n",
    "\n",
    "names = ['matt', 'matt', 'bob', 'mary', 'jane', 'jane', 'jane']\n",
    "for name in names:\n",
    "    if name not in counts:\n",
    "        counts[name] = 1\n",
    "    else:\n",
    "        counts[name] = counts[name] + 1\n",
    "print(counts)"
   ]
  },
  {
   "cell_type": "markdown",
   "id": "c6a33218",
   "metadata": {},
   "source": [
    "- The above method is Sooo common that Python has a special method for it.\n",
    "- Called get."
   ]
  },
  {
   "cell_type": "markdown",
   "id": "99b60af7",
   "metadata": {},
   "source": [
    "### get command\n",
    "\n",
    "- https://www.w3schools.com/python/ref_dictionary_get.asp\n",
    "\n",
    "- The get() method returns the value of the item with the specified key.\n",
    "\n",
    "- dictionary.get(keyname, value) \n",
    "\n",
    "### Parameter Values\n",
    "\n",
    "| Parameter | Description |\n",
    "|:----------|:------------|\n",
    "| keyname | Required. The keyname of the item you want to return the value from |\n",
    "| value | Optional. A value to return if the specified key does not exist. Default value None |"
   ]
  },
  {
   "cell_type": "code",
   "execution_count": 20,
   "id": "a9f3fe4c",
   "metadata": {},
   "outputs": [
    {
     "name": "stdout",
     "output_type": "stream",
     "text": [
      "3\n"
     ]
    }
   ],
   "source": [
    "# get is only used in dictionaries\n",
    "\n",
    "if name in counts:\n",
    "    x = counts[name]\n",
    "else:\n",
    "    x = 0\n",
    "    \n",
    "x = counts.get(name)\n",
    "print(x)"
   ]
  },
  {
   "cell_type": "code",
   "execution_count": 22,
   "id": "96f84caf",
   "metadata": {},
   "outputs": [
    {
     "name": "stdout",
     "output_type": "stream",
     "text": [
      "{'matt': 2, 'bob': 1, 'mary': 1, 'jane': 3}\n"
     ]
    }
   ],
   "source": [
    "# Example of using get Instead of if..then statements\n",
    "\n",
    "counts = dict()\n",
    "names = ['matt', 'matt', 'bob', 'mary', 'jane', 'jane', 'jane']\n",
    "\n",
    "for name in names:\n",
    "    counts[name] = counts.get(name, 0) + 1\n",
    "print(counts)"
   ]
  },
  {
   "cell_type": "markdown",
   "id": "f9a4f659",
   "metadata": {},
   "source": [
    "## 9.3 - Dictionaries and Files\n",
    "\n"
   ]
  },
  {
   "cell_type": "code",
   "execution_count": 25,
   "id": "61feb321",
   "metadata": {},
   "outputs": [
    {
     "name": "stdout",
     "output_type": "stream",
     "text": [
      "Enter a line of text:\n",
      "the cat ran into the barn and the barn ran into the water and the water ran into the ocean and the cat ran into the cow\n",
      "Words;  ['the', 'cat', 'ran', 'into', 'the', 'barn', 'and', 'the', 'barn', 'ran', 'into', 'the', 'water', 'and', 'the', 'water', 'ran', 'into', 'the', 'ocean', 'and', 'the', 'cat', 'ran', 'into', 'the', 'cow'] \n",
      "\n",
      "Counting... \n",
      "\n",
      "Counts {'the': 8, 'cat': 2, 'ran': 4, 'into': 4, 'barn': 2, 'and': 3, 'water': 2, 'ocean': 1, 'cow': 1}\n"
     ]
    }
   ],
   "source": [
    "# Counting Pattern for dictionaries\n",
    "\n",
    "counts = dict()\n",
    "print('Enter a line of text:')\n",
    "line = input('')\n",
    "\n",
    "words = line.split()\n",
    "print('Words; ', words, '\\n')\n",
    "\n",
    "print('Counting... \\n')\n",
    "for word in words:\n",
    "    counts[word] = counts.get(word,0) +1\n",
    "print('Counts', counts)"
   ]
  },
  {
   "cell_type": "code",
   "execution_count": 32,
   "id": "47924eeb",
   "metadata": {},
   "outputs": [
    {
     "name": "stdout",
     "output_type": "stream",
     "text": [
      "{'matt': 43, 'bob': 661, 'mary': 81, 'jane': 23}\n",
      "\n",
      "dict_keys(['matt', 'bob', 'mary', 'jane'])\n",
      "\n",
      "dict_values([43, 661, 81, 23])\n",
      "\n",
      "dict_items([('matt', 43), ('bob', 661), ('mary', 81), ('jane', 23)])\n"
     ]
    }
   ],
   "source": [
    "# Retreiving lists of keys and values\n",
    "\n",
    "jjj = {'matt': 43, 'bob': 661, 'mary': 81, 'jane': 23}\n",
    "\n",
    "print(jjj)\n",
    "print()\n",
    "\n",
    "print(jjj.keys())\n",
    "print()\n",
    "\n",
    "print(jjj.values())\n",
    "print()\n",
    "\n",
    "print(jjj.items()) # This produces a tuple! Immutable tuples"
   ]
  },
  {
   "cell_type": "code",
   "execution_count": 35,
   "id": "dd6d079c",
   "metadata": {},
   "outputs": [
    {
     "name": "stdout",
     "output_type": "stream",
     "text": [
      "matt 43\n",
      "bob 661\n",
      "mary 81\n",
      "jane 23\n"
     ]
    }
   ],
   "source": [
    "# Iterating through two variables 'key' and 'value'\n",
    "\n",
    "jjj = {'matt': 43, 'bob': 661, 'mary': 81, 'jane': 23}\n",
    "\n",
    "for key,value in jjj.items():\n",
    "    print(key, value)"
   ]
  },
  {
   "cell_type": "markdown",
   "id": "ed2fac4f",
   "metadata": {},
   "source": [
    "find: words.txt & clown.txt at http://www.py4e.com/code3"
   ]
  },
  {
   "cell_type": "code",
   "execution_count": 39,
   "id": "3173c3d0",
   "metadata": {},
   "outputs": [
    {
     "name": "stdout",
     "output_type": "stream",
     "text": [
      "Writing 1\n",
      "programs 2\n",
      "or 1\n",
      "programming 1\n",
      "is 2\n",
      "a 3\n",
      "very 2\n",
      "creative 1\n",
      "and 5\n",
      "rewarding 1\n",
      "activity 1\n",
      "You 1\n",
      "can 4\n",
      "write 1\n",
      "for 1\n",
      "many 2\n",
      "reasons 1\n",
      "ranging 2\n",
      "from 2\n",
      "making 1\n",
      "your 2\n",
      "living 1\n",
      "to 16\n",
      "solving 1\n",
      "difficult 1\n",
      "data 1\n",
      "analysis 1\n",
      "problem 2\n",
      "having 1\n",
      "fun 1\n",
      "helping 1\n",
      "someone 1\n",
      "else 1\n",
      "solve 1\n",
      "This 1\n",
      "book 1\n",
      "assumes 1\n",
      "that 4\n",
      "{\\em 1\n",
      "everyone} 1\n",
      "needs 1\n",
      "know 2\n",
      "how 2\n",
      "program 1\n",
      "once 1\n",
      "you 4\n",
      "program, 1\n",
      "will 1\n",
      "figure 1\n",
      "out 1\n",
      "what 2\n",
      "want 1\n",
      "do 5\n",
      "with 2\n",
      "newfound 1\n",
      "skills 1\n",
      "We 2\n",
      "are 3\n",
      "surrounded 1\n",
      "in 2\n",
      "our 5\n",
      "daily 1\n",
      "lives 1\n",
      "computers 5\n",
      "laptops 1\n",
      "cell 1\n",
      "phones 1\n",
      "think 1\n",
      "of 5\n",
      "these 1\n",
      "as 1\n",
      "personal 1\n",
      "assistants 1\n",
      "who 1\n",
      "take 1\n",
      "care 1\n",
      "things 3\n",
      "on 2\n",
      "behalf 2\n",
      "The 1\n",
      "hardware 1\n",
      "current-day 1\n",
      "essentially 1\n",
      "built 1\n",
      "continuously 1\n",
      "ask 1\n",
      "us 2\n",
      "the 6\n",
      "question 1\n",
      "What 1\n",
      "would 2\n",
      "like 2\n",
      "me 1\n",
      "next 2\n",
      "Our 1\n",
      "fast 1\n",
      "have 1\n",
      "vasts 1\n",
      "amounts 1\n",
      "memory 1\n",
      "could 2\n",
      "be 1\n",
      "helpful 1\n",
      "if 1\n",
      "we 5\n",
      "only 1\n",
      "knew 2\n",
      "language 2\n",
      "speak 1\n",
      "explain 1\n",
      "computer 2\n",
      "it 1\n",
      "If 1\n",
      "this 1\n",
      "tell 1\n",
      "tasks 1\n",
      "were 1\n",
      "reptitive 1\n",
      "Interestingly, 1\n",
      "kinds 2\n",
      "best 1\n",
      "often 1\n",
      "humans 1\n",
      "find 1\n",
      "boring 1\n",
      "mind-numbing 1\n"
     ]
    }
   ],
   "source": [
    "## Try this little prog with file:\n",
    "## words.txt produces 'to', 16 \n",
    "## clown.txt produces 'the' 7\n",
    "\n",
    "name = 'words.txt'\n",
    "handle = open(name)\n",
    "\n",
    "counts = dict()\n",
    "for line in handle:\n",
    "    words = line.split()\n",
    "    for word in words:\n",
    "        counts[word] = counts.get(word,0) + 1\n",
    "        \n",
    "for key,value in counts.items():\n",
    "    print(key, value)"
   ]
  },
  {
   "cell_type": "code",
   "execution_count": 40,
   "id": "f1d5faef",
   "metadata": {},
   "outputs": [
    {
     "name": "stdout",
     "output_type": "stream",
     "text": [
      "16 to\n"
     ]
    }
   ],
   "source": [
    "bigcnt = None\n",
    "bigwd = None\n",
    "\n",
    "for word,count in counts.items():\n",
    "    if bigcnt is None or count > bigcnt:\n",
    "        bigwd = word # then remember word and count\n",
    "        bigcnt = count    \n",
    "        \n",
    "print(bigcnt, bigwd)"
   ]
  },
  {
   "cell_type": "markdown",
   "id": "ce93f398",
   "metadata": {},
   "source": [
    "![](summary_dict.png)"
   ]
  },
  {
   "cell_type": "markdown",
   "id": "a2e34a36",
   "metadata": {},
   "source": [
    "## Chapter 9 Quiz\n",
    "\n",
    "1.How are Python dictionaries different from Python lists?\n",
    "   - A. Python lists are indexed using integers and dictionaries can use strings as indexes\n",
    "\n",
    "2.What is a term commonly used to describe the Python dictionary feature in other programming languages?\n",
    "   - A. Associative arrays"
   ]
  },
  {
   "cell_type": "code",
   "execution_count": 43,
   "id": "c93b82b6",
   "metadata": {},
   "outputs": [
    {
     "ename": "KeyError",
     "evalue": "'candy'",
     "output_type": "error",
     "traceback": [
      "\u001b[0;31m---------------------------------------------------------------------------\u001b[0m",
      "\u001b[0;31mKeyError\u001b[0m                                  Traceback (most recent call last)",
      "\u001b[0;32m<ipython-input-43-25dd041dd884>\u001b[0m in \u001b[0;36m<module>\u001b[0;34m\u001b[0m\n\u001b[1;32m      2\u001b[0m \u001b[0;34m\u001b[0m\u001b[0m\n\u001b[1;32m      3\u001b[0m \u001b[0mstuff\u001b[0m \u001b[0;34m=\u001b[0m \u001b[0mdict\u001b[0m\u001b[0;34m(\u001b[0m\u001b[0;34m)\u001b[0m\u001b[0;34m\u001b[0m\u001b[0;34m\u001b[0m\u001b[0m\n\u001b[0;32m----> 4\u001b[0;31m \u001b[0mprint\u001b[0m\u001b[0;34m(\u001b[0m\u001b[0mstuff\u001b[0m\u001b[0;34m[\u001b[0m\u001b[0;34m'candy'\u001b[0m\u001b[0;34m]\u001b[0m\u001b[0;34m)\u001b[0m\u001b[0;34m\u001b[0m\u001b[0;34m\u001b[0m\u001b[0m\n\u001b[0m",
      "\u001b[0;31mKeyError\u001b[0m: 'candy'"
     ]
    }
   ],
   "source": [
    "# 3.What would the following Python code print out?\n",
    "# A. The program would fail with a traceback\n",
    "\n",
    "stuff = dict()\n",
    "print(stuff['candy'])"
   ]
  },
  {
   "cell_type": "code",
   "execution_count": 44,
   "id": "17fdaddc",
   "metadata": {},
   "outputs": [
    {
     "name": "stdout",
     "output_type": "stream",
     "text": [
      "-1\n"
     ]
    }
   ],
   "source": [
    "# 4.What would the following Python code print out?\n",
    "# A. \n",
    "\n",
    "stuff = dict()\n",
    "print(stuff.get('candy',-1))"
   ]
  },
  {
   "cell_type": "markdown",
   "id": "8804adf8",
   "metadata": {},
   "source": [
    "5.(T/F) When you add items to a dictionary they remain in the order in which you added them\n",
    "   - A. False"
   ]
  },
  {
   "cell_type": "markdown",
   "id": "683f9453",
   "metadata": {},
   "source": [
    "6.What is a common use of Python dictionaries in a program?\n",
    "   - A. Building a histogram counting the occurrences of various strings in a file"
   ]
  },
  {
   "cell_type": "markdown",
   "id": "9a6ab889",
   "metadata": {},
   "source": [
    "7.Which of the following lines of Python is equivalent to \n",
    " the following sequence of statements assuming that counts \n",
    " is a dictionary?\n",
    "```\n",
    "if key in counts:\n",
    "    counts[key] = counts[key] + 1\n",
    "else:\n",
    "    counts[key] = 1\n",
    "```    \n",
    "   - A. counts[key] = counts.get(key,0) + 1"
   ]
  },
  {
   "cell_type": "markdown",
   "id": "2b2db4a8",
   "metadata": {},
   "source": [
    "8.In the following Python, what does the for loop iterate through?\n",
    "```\n",
    "x = dict()\n",
    "##\n",
    "for y in x :\n",
    "     ##\n",
    "```\n",
    "A. It loops through the keys in the dictionary"
   ]
  },
  {
   "cell_type": "markdown",
   "id": "cfad135a",
   "metadata": {},
   "source": [
    "9.Which method in a dictionary object gives you a list of the values in the dictionary?\n",
    "   - A. values()"
   ]
  },
  {
   "cell_type": "markdown",
   "id": "5145b126",
   "metadata": {},
   "source": [
    "10.What is the purpose of the second parameter of the get() method for Python dictionaries?\n",
    "   - A. To provide a default value if the key is not found"
   ]
  },
  {
   "cell_type": "markdown",
   "id": "06dc7dfa",
   "metadata": {},
   "source": [
    "## Exercvise 9.4 \n",
    "\n",
    "- Write a program to read through the mbox-short.txt and figure out who has sent the greatest number of mail messages. \n",
    "\n",
    "- The program looks for 'From ' lines and takes the second word of those lines as the person who sent the mail. \n",
    "\n",
    "- The program creates a Python dictionary that maps the sender's mail address to a count of the number of times they appear in the file. \n",
    "\n",
    "- After the dictionary is produced, the program reads through the dictionary using a maximum loop to find the most prolific committer.\n",
    "\n",
    "```\n",
    "name = input(\"Enter file:\")\n",
    "if len(name) < 1:\n",
    "    name = \"mbox-short.txt\"\n",
    "handle = open(name)\n",
    "```"
   ]
  },
  {
   "cell_type": "code",
   "execution_count": 59,
   "id": "826aeb52",
   "metadata": {},
   "outputs": [
    {
     "ename": "IndentationError",
     "evalue": "expected an indented block (<ipython-input-59-c9ca3982fd28>, line 16)",
     "output_type": "error",
     "traceback": [
      "\u001b[0;36m  File \u001b[0;32m\"<ipython-input-59-c9ca3982fd28>\"\u001b[0;36m, line \u001b[0;32m16\u001b[0m\n\u001b[0;31m    print(key, value)\u001b[0m\n\u001b[0m    ^\u001b[0m\n\u001b[0;31mIndentationError\u001b[0m\u001b[0;31m:\u001b[0m expected an indented block\n"
     ]
    }
   ],
   "source": [
    "name = \"mbox-short.txt\"\n",
    "fhandle = open(name)\n",
    "addresses = dict()\n",
    "\n",
    "for line in fhandle:\n",
    "    line.strip()\n",
    "    if not line.startswith('From '):\n",
    "        continue\n",
    "    email = line.split()\n",
    "    print(email[1])\n",
    "    \n",
    "    for word in words:\n",
    "        counts[word] = counts.get(word,0) + 1\n",
    "        \n",
    "    for key,value in counts.items():\n",
    "    print(key, value)"
   ]
  },
  {
   "cell_type": "code",
   "execution_count": null,
   "id": "afc865ee",
   "metadata": {},
   "outputs": [],
   "source": []
  }
 ],
 "metadata": {
  "kernelspec": {
   "display_name": "Python 3",
   "language": "python",
   "name": "python3"
  },
  "language_info": {
   "codemirror_mode": {
    "name": "ipython",
    "version": 3
   },
   "file_extension": ".py",
   "mimetype": "text/x-python",
   "name": "python",
   "nbconvert_exporter": "python",
   "pygments_lexer": "ipython3",
   "version": "3.8.8"
  }
 },
 "nbformat": 4,
 "nbformat_minor": 5
}
