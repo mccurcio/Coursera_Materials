{
 "cells": [
  {
   "cell_type": "code",
   "execution_count": 1,
   "id": "found-damages",
   "metadata": {},
   "outputs": [
    {
     "name": "stdout",
     "output_type": "stream",
     "text": [
      "Collecting package metadata (current_repodata.json): done\n",
      "Solving environment: done\n",
      "\n",
      "## Package Plan ##\n",
      "\n",
      "  environment location: /home/mcc/anaconda3\n",
      "\n",
      "  added / updated specs:\n",
      "    - lxml\n",
      "\n",
      "\n",
      "The following packages will be downloaded:\n",
      "\n",
      "    package                    |            build\n",
      "    ---------------------------|-----------------\n",
      "    ca-certificates-2020.10.14 |                0         128 KB  anaconda\n",
      "    certifi-2020.6.20          |           py38_0         160 KB  anaconda\n",
      "    lxml-4.6.1                 |   py38hefd8a0e_0         1.4 MB  anaconda\n",
      "    ------------------------------------------------------------\n",
      "                                           Total:         1.7 MB\n",
      "\n",
      "The following packages will be SUPERSEDED by a higher-priority channel:\n",
      "\n",
      "  ca-certificates    pkgs/main::ca-certificates-2021.5.25-~ --> anaconda::ca-certificates-2020.10.14-0\n",
      "  certifi            pkgs/main::certifi-2021.5.30-py38h06a~ --> anaconda::certifi-2020.6.20-py38_0\n",
      "  lxml                 pkgs/main::lxml-4.6.3-py38h9120a33_0 --> anaconda::lxml-4.6.1-py38hefd8a0e_0\n",
      "\n",
      "\n",
      "\n",
      "Downloading and Extracting Packages\n",
      "lxml-4.6.1           | 1.4 MB    | ##################################### | 100% \n",
      "ca-certificates-2020 | 128 KB    | ##################################### | 100% \n",
      "certifi-2020.6.20    | 160 KB    | ##################################### | 100% \n",
      "Preparing transaction: done\n",
      "Verifying transaction: done\n",
      "Executing transaction: done\n",
      "\n",
      "Note: you may need to restart the kernel to use updated packages.\n"
     ]
    }
   ],
   "source": [
    "conda install -c anaconda lxml"
   ]
  },
  {
   "cell_type": "code",
   "execution_count": 2,
   "id": "backed-chemistry",
   "metadata": {},
   "outputs": [
    {
     "name": "stdout",
     "output_type": "stream",
     "text": [
      "Collecting package metadata (current_repodata.json): done\n",
      "Solving environment: done\n",
      "\n",
      "## Package Plan ##\n",
      "\n",
      "  environment location: /home/mcc/anaconda3\n",
      "\n",
      "  added / updated specs:\n",
      "    - nltk\n",
      "\n",
      "\n",
      "The following packages will be downloaded:\n",
      "\n",
      "    package                    |            build\n",
      "    ---------------------------|-----------------\n",
      "    nltk-3.5                   |             py_0         1.1 MB  anaconda\n",
      "    ------------------------------------------------------------\n",
      "                                           Total:         1.1 MB\n",
      "\n",
      "The following packages will be SUPERSEDED by a higher-priority channel:\n",
      "\n",
      "  nltk                   pkgs/main::nltk-3.6.2-pyhd3eb1b0_0 --> anaconda::nltk-3.5-py_0\n",
      "\n",
      "\n",
      "\n",
      "Downloading and Extracting Packages\n",
      "nltk-3.5             | 1.1 MB    | ##################################### | 100% \n",
      "Preparing transaction: done\n",
      "Verifying transaction: done\n",
      "Executing transaction: done\n",
      "\n",
      "Note: you may need to restart the kernel to use updated packages.\n"
     ]
    }
   ],
   "source": [
    "conda install -c anaconda nltk"
   ]
  },
  {
   "cell_type": "code",
   "execution_count": 3,
   "id": "contained-freeware",
   "metadata": {},
   "outputs": [
    {
     "name": "stdout",
     "output_type": "stream",
     "text": [
      "Collecting package metadata (current_repodata.json): done\n",
      "Solving environment: done\n",
      "\n",
      "## Package Plan ##\n",
      "\n",
      "  environment location: /home/mcc/anaconda3\n",
      "\n",
      "  added / updated specs:\n",
      "    - urllib3\n",
      "\n",
      "\n",
      "The following packages will be downloaded:\n",
      "\n",
      "    package                    |            build\n",
      "    ---------------------------|-----------------\n",
      "    urllib3-1.25.11            |             py_0          93 KB  anaconda\n",
      "    ------------------------------------------------------------\n",
      "                                           Total:          93 KB\n",
      "\n",
      "The following packages will be SUPERSEDED by a higher-priority channel:\n",
      "\n",
      "  urllib3            pkgs/main::urllib3-1.26.4-pyhd3eb1b0_0 --> anaconda::urllib3-1.25.11-py_0\n",
      "\n",
      "\n",
      "\n",
      "Downloading and Extracting Packages\n",
      "urllib3-1.25.11      | 93 KB     | ##################################### | 100% \n",
      "Preparing transaction: done\n",
      "Verifying transaction: done\n",
      "Executing transaction: done\n",
      "\n",
      "Note: you may need to restart the kernel to use updated packages.\n"
     ]
    }
   ],
   "source": [
    "conda install -c anaconda urllib3"
   ]
  },
  {
   "cell_type": "code",
   "execution_count": 4,
   "id": "injured-uganda",
   "metadata": {},
   "outputs": [],
   "source": [
    "from lxml import html\n",
    "import requests, time\n",
    "from nltk.tokenize.punkt import PunktSentenceTokenizer, PunktParameters\n",
    "from urllib.parse import quote as quote\n",
    "import urllib3"
   ]
  },
  {
   "cell_type": "code",
   "execution_count": 17,
   "id": "increased-profession",
   "metadata": {},
   "outputs": [],
   "source": [
    "# Example of plagiarism test from Moby Dick\n",
    "text_to_check = \"Call me. I think this is a great way to start a book.\""
   ]
  },
  {
   "cell_type": "code",
   "execution_count": 18,
   "id": "applied-miami",
   "metadata": {},
   "outputs": [],
   "source": [
    "punkt_param = PunktParameters()\n",
    "sentence_splitter = PunktSentenceTokenizer(punkt_param)\n",
    "sentences = sentence_splitter.tokenize(text_to_check)\n",
    "probablity_of_plagiarism = 0"
   ]
  },
  {
   "cell_type": "code",
   "execution_count": 19,
   "id": "absent-memorial",
   "metadata": {},
   "outputs": [
    {
     "name": "stdout",
     "output_type": "stream",
     "text": [
      "Probability of plagiarism: 100.0% \n"
     ]
    }
   ],
   "source": [
    "for a_sentence in sentences:\n",
    "    #print(a_sentence)\n",
    "    time.sleep(0.3) # This might be necessary so to not flood Bing.com\n",
    "    the_term = quote('+' + '\"' + a_sentence + '\"')\n",
    "    page = requests.get('http://www.bing.com/search?q=' + the_term)\n",
    "    if (not \"No results found for\" in page.text):\n",
    "        probablity_of_plagiarism += 1;\n",
    "        \n",
    "print('Probability of plagiarism: ' + str((probablity_of_plagiarism/len(sentences)) * 100) + '% ')"
   ]
  }
 ],
 "metadata": {
  "kernelspec": {
   "display_name": "Python 3 (ipykernel)",
   "language": "python",
   "name": "python3"
  },
  "language_info": {
   "codemirror_mode": {
    "name": "ipython",
    "version": 3
   },
   "file_extension": ".py",
   "mimetype": "text/x-python",
   "name": "python",
   "nbconvert_exporter": "python",
   "pygments_lexer": "ipython3",
   "version": "3.8.8"
  }
 },
 "nbformat": 4,
 "nbformat_minor": 5
}
