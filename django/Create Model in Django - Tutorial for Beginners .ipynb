{
 "cells": [
  {
   "cell_type": "code",
   "execution_count": 1,
   "id": "6ca81c2e",
   "metadata": {},
   "outputs": [
    {
     "name": "stdout",
     "output_type": "stream",
     "text": [
      "3.8.8\n"
     ]
    }
   ],
   "source": [
    "from platform import python_version\n",
    "\n",
    "print(python_version())"
   ]
  },
  {
   "cell_type": "code",
   "execution_count": 2,
   "id": "9c51aeaf",
   "metadata": {},
   "outputs": [
    {
     "name": "stdout",
     "output_type": "stream",
     "text": [
      "Requirement already satisfied: virtualenv in /home/mcc/.local/lib/python3.8/site-packages (20.4.7)\n",
      "Requirement already satisfied: six<2,>=1.9.0 in /home/mcc/anaconda3/lib/python3.8/site-packages (from virtualenv) (1.15.0)\n",
      "Requirement already satisfied: filelock<4,>=3.0.0 in /home/mcc/anaconda3/lib/python3.8/site-packages (from virtualenv) (3.0.12)\n",
      "Requirement already satisfied: appdirs<2,>=1.4.3 in /home/mcc/anaconda3/lib/python3.8/site-packages (from virtualenv) (1.4.4)\n",
      "Requirement already satisfied: distlib<1,>=0.3.1 in /home/mcc/.local/lib/python3.8/site-packages (from virtualenv) (0.3.2)\n",
      "Note: you may need to restart the kernel to use updated packages.\n"
     ]
    }
   ],
   "source": [
    "pip install --user virtualenv"
   ]
  },
  {
   "cell_type": "code",
   "execution_count": 3,
   "id": "81adcca2",
   "metadata": {},
   "outputs": [
    {
     "name": "stdout",
     "output_type": "stream",
     "text": [
      "Collecting package metadata (current_repodata.json): done\n",
      "Solving environment: done\n",
      "\n",
      "## Package Plan ##\n",
      "\n",
      "  environment location: /home/mcc/anaconda3/envs/myenv\n",
      "\n",
      "  added / updated specs:\n",
      "    - python=3.8\n",
      "\n",
      "\n",
      "The following NEW packages will be INSTALLED:\n",
      "\n",
      "  _libgcc_mutex      pkgs/main/linux-64::_libgcc_mutex-0.1-main\n",
      "  _openmp_mutex      pkgs/main/linux-64::_openmp_mutex-4.5-1_gnu\n",
      "  ca-certificates    pkgs/main/linux-64::ca-certificates-2021.5.25-h06a4308_1\n",
      "  certifi            pkgs/main/linux-64::certifi-2021.5.30-py38h06a4308_0\n",
      "  ld_impl_linux-64   pkgs/main/linux-64::ld_impl_linux-64-2.35.1-h7274673_9\n",
      "  libffi             pkgs/main/linux-64::libffi-3.3-he6710b0_2\n",
      "  libgcc-ng          pkgs/main/linux-64::libgcc-ng-9.3.0-h5101ec6_17\n",
      "  libgomp            pkgs/main/linux-64::libgomp-9.3.0-h5101ec6_17\n",
      "  libstdcxx-ng       pkgs/main/linux-64::libstdcxx-ng-9.3.0-hd4cf53a_17\n",
      "  ncurses            pkgs/main/linux-64::ncurses-6.2-he6710b0_1\n",
      "  openssl            pkgs/main/linux-64::openssl-1.1.1k-h27cfd23_0\n",
      "  pip                pkgs/main/linux-64::pip-21.1.2-py38h06a4308_0\n",
      "  python             pkgs/main/linux-64::python-3.8.10-h12debd9_8\n",
      "  readline           pkgs/main/linux-64::readline-8.1-h27cfd23_0\n",
      "  setuptools         pkgs/main/linux-64::setuptools-52.0.0-py38h06a4308_0\n",
      "  sqlite             pkgs/main/linux-64::sqlite-3.35.4-hdfb4753_0\n",
      "  tk                 pkgs/main/linux-64::tk-8.6.10-hbc83047_0\n",
      "  wheel              pkgs/main/noarch::wheel-0.36.2-pyhd3eb1b0_0\n",
      "  xz                 pkgs/main/linux-64::xz-5.2.5-h7b6447c_0\n",
      "  zlib               pkgs/main/linux-64::zlib-1.2.11-h7b6447c_3\n",
      "\n",
      "\n",
      "Preparing transaction: done\n",
      "Verifying transaction: done\n",
      "Executing transaction: done\n",
      "#\n",
      "# To activate this environment, use\n",
      "#\n",
      "#     $ conda activate myenv\n",
      "#\n",
      "# To deactivate an active environment, use\n",
      "#\n",
      "#     $ conda deactivate\n",
      "\n",
      "\n",
      "Note: you may need to restart the kernel to use updated packages.\n"
     ]
    }
   ],
   "source": [
    "conda create -n myenv python=3.8 -y"
   ]
  },
  {
   "cell_type": "code",
   "execution_count": 4,
   "id": "0591cb0e",
   "metadata": {},
   "outputs": [
    {
     "name": "stdout",
     "output_type": "stream",
     "text": [
      "Requirement already satisfied: django in /home/mcc/anaconda3/lib/python3.8/site-packages (3.2.4)\n",
      "Requirement already satisfied: pytz in /home/mcc/anaconda3/lib/python3.8/site-packages (from django) (2021.1)\n",
      "Requirement already satisfied: sqlparse>=0.2.2 in /home/mcc/anaconda3/lib/python3.8/site-packages (from django) (0.4.1)\n",
      "Requirement already satisfied: asgiref<4,>=3.3.2 in /home/mcc/anaconda3/lib/python3.8/site-packages (from django) (3.3.4)\n",
      "Note: you may need to restart the kernel to use updated packages.\n"
     ]
    }
   ],
   "source": [
    "pip install django"
   ]
  },
  {
   "cell_type": "code",
   "execution_count": 1,
   "id": "05d243a4",
   "metadata": {},
   "outputs": [
    {
     "name": "stdout",
     "output_type": "stream",
     "text": [
      "Collecting django-admin\n",
      "  Downloading django_admin-2.0.1-py2.py3-none-any.whl (7.6 kB)\n",
      "Collecting django-excel-response2>=3.0.0\n",
      "  Downloading django_excel_response2-3.0.2-py2.py3-none-any.whl (4.4 kB)\n",
      "Collecting django-excel-base>=1.0.4\n",
      "  Downloading django_excel_base-1.0.4-py2.py3-none-any.whl (4.0 kB)\n",
      "Collecting django-six>=1.0.4\n",
      "  Downloading django_six-1.0.4-py2.py3-none-any.whl (3.5 kB)\n",
      "Requirement already satisfied: xlwt in /home/mcc/anaconda3/lib/python3.8/site-packages (from django-excel-base>=1.0.4->django-excel-response2>=3.0.0->django-admin) (1.3.0)\n",
      "Requirement already satisfied: pytz in /home/mcc/anaconda3/lib/python3.8/site-packages (from django-excel-base>=1.0.4->django-excel-response2>=3.0.0->django-admin) (2021.1)\n",
      "Collecting screen\n",
      "  Downloading screen-1.0.1.tar.gz (8.6 kB)\n",
      "Building wheels for collected packages: screen\n",
      "  Building wheel for screen (setup.py) ... \u001b[?25ldone\n",
      "\u001b[?25h  Created wheel for screen: filename=screen-1.0.1-cp38-cp38-linux_x86_64.whl size=33143 sha256=c482e7dcd3abddd24538ff89a0fbd5b3586c0b092ac9177e6887b0cc176ef1cb\n",
      "  Stored in directory: /home/mcc/.cache/pip/wheels/f9/99/65/20e97e8ebfe290be1f70fcf0adbb8bf1671f828aaac35d853c\n",
      "Successfully built screen\n",
      "Installing collected packages: screen, django-six, django-excel-base, django-excel-response2, django-admin\n",
      "Successfully installed django-admin-2.0.1 django-excel-base-1.0.4 django-excel-response2-3.0.2 django-six-1.0.4 screen-1.0.1\n",
      "Note: you may need to restart the kernel to use updated packages.\n"
     ]
    }
   ],
   "source": [
    "pip install django-admin"
   ]
  },
  {
   "cell_type": "code",
   "execution_count": 2,
   "id": "8651de2d",
   "metadata": {},
   "outputs": [
    {
     "name": "stdout",
     "output_type": "stream",
     "text": [
      "\n",
      "CommandNotFoundError: Your shell has not been properly configured to use 'conda activate'.\n",
      "To initialize your shell, run\n",
      "\n",
      "    $ conda init <SHELL_NAME>\n",
      "\n",
      "Currently supported shells are:\n",
      "  - bash\n",
      "  - fish\n",
      "  - tcsh\n",
      "  - xonsh\n",
      "  - zsh\n",
      "  - powershell\n",
      "\n",
      "See 'conda init --help' for more information and options.\n",
      "\n",
      "IMPORTANT: You may need to close and restart your shell after running 'conda init'.\n",
      "\n",
      "\n",
      "\n",
      "Note: you may need to restart the kernel to use updated packages.\n"
     ]
    }
   ],
   "source": [
    "conda activate hellodjango"
   ]
  },
  {
   "cell_type": "code",
   "execution_count": null,
   "id": "72d3d9b1",
   "metadata": {},
   "outputs": [],
   "source": []
  }
 ],
 "metadata": {
  "kernelspec": {
   "display_name": "Python 3",
   "language": "python",
   "name": "python3"
  },
  "language_info": {
   "codemirror_mode": {
    "name": "ipython",
    "version": 3
   },
   "file_extension": ".py",
   "mimetype": "text/x-python",
   "name": "python",
   "nbconvert_exporter": "python",
   "pygments_lexer": "ipython3",
   "version": "3.8.8"
  }
 },
 "nbformat": 4,
 "nbformat_minor": 5
}
