{
 "cells": [
  {
   "cell_type": "markdown",
   "id": "9100206d",
   "metadata": {},
   "source": [
    "Hello World of Django: Simple on Purpose"
   ]
  },
  {
   "cell_type": "code",
   "execution_count": null,
   "id": "53a6b497",
   "metadata": {},
   "outputs": [],
   "source": []
  },
  {
   "cell_type": "code",
   "execution_count": 1,
   "id": "06ab9fd7",
   "metadata": {},
   "outputs": [
    {
     "name": "stdout",
     "output_type": "stream",
     "text": [
      "Collecting package metadata (current_repodata.json): done\n",
      "Solving environment: done\n",
      "\n",
      "## Package Plan ##\n",
      "\n",
      "  environment location: /home/mcc/anaconda3/envs/hellodjango2\n",
      "\n",
      "  added / updated specs:\n",
      "    - python=3.8\n",
      "\n",
      "\n",
      "The following NEW packages will be INSTALLED:\n",
      "\n",
      "  _libgcc_mutex      pkgs/main/linux-64::_libgcc_mutex-0.1-main\n",
      "  _openmp_mutex      pkgs/main/linux-64::_openmp_mutex-4.5-1_gnu\n",
      "  ca-certificates    pkgs/main/linux-64::ca-certificates-2021.5.25-h06a4308_1\n",
      "  certifi            pkgs/main/linux-64::certifi-2021.5.30-py38h06a4308_0\n",
      "  ld_impl_linux-64   pkgs/main/linux-64::ld_impl_linux-64-2.35.1-h7274673_9\n",
      "  libffi             pkgs/main/linux-64::libffi-3.3-he6710b0_2\n",
      "  libgcc-ng          pkgs/main/linux-64::libgcc-ng-9.3.0-h5101ec6_17\n",
      "  libgomp            pkgs/main/linux-64::libgomp-9.3.0-h5101ec6_17\n",
      "  libstdcxx-ng       pkgs/main/linux-64::libstdcxx-ng-9.3.0-hd4cf53a_17\n",
      "  ncurses            pkgs/main/linux-64::ncurses-6.2-he6710b0_1\n",
      "  openssl            pkgs/main/linux-64::openssl-1.1.1k-h27cfd23_0\n",
      "  pip                pkgs/main/linux-64::pip-21.1.2-py38h06a4308_0\n",
      "  python             pkgs/main/linux-64::python-3.8.10-h12debd9_8\n",
      "  readline           pkgs/main/linux-64::readline-8.1-h27cfd23_0\n",
      "  setuptools         pkgs/main/linux-64::setuptools-52.0.0-py38h06a4308_0\n",
      "  sqlite             pkgs/main/linux-64::sqlite-3.35.4-hdfb4753_0\n",
      "  tk                 pkgs/main/linux-64::tk-8.6.10-hbc83047_0\n",
      "  wheel              pkgs/main/noarch::wheel-0.36.2-pyhd3eb1b0_0\n",
      "  xz                 pkgs/main/linux-64::xz-5.2.5-h7b6447c_0\n",
      "  zlib               pkgs/main/linux-64::zlib-1.2.11-h7b6447c_3\n",
      "\n",
      "\n",
      "Preparing transaction: done\n",
      "Verifying transaction: done\n",
      "Executing transaction: done\n",
      "#\n",
      "# To activate this environment, use\n",
      "#\n",
      "#     $ conda activate hellodjango2\n",
      "#\n",
      "# To deactivate an active environment, use\n",
      "#\n",
      "#     $ conda deactivate\n",
      "\n",
      "\n",
      "Note: you may need to restart the kernel to use updated packages.\n"
     ]
    }
   ],
   "source": [
    "conda create -n hellodjango2 python=3.8 -y"
   ]
  },
  {
   "cell_type": "code",
   "execution_count": 2,
   "id": "822619ca",
   "metadata": {},
   "outputs": [
    {
     "name": "stdout",
     "output_type": "stream",
     "text": [
      "\n",
      "CommandNotFoundError: Your shell has not been properly configured to use 'conda activate'.\n",
      "To initialize your shell, run\n",
      "\n",
      "    $ conda init <SHELL_NAME>\n",
      "\n",
      "Currently supported shells are:\n",
      "  - bash\n",
      "  - fish\n",
      "  - tcsh\n",
      "  - xonsh\n",
      "  - zsh\n",
      "  - powershell\n",
      "\n",
      "See 'conda init --help' for more information and options.\n",
      "\n",
      "IMPORTANT: You may need to close and restart your shell after running 'conda init'.\n",
      "\n",
      "\n",
      "\n",
      "Note: you may need to restart the kernel to use updated packages.\n"
     ]
    }
   ],
   "source": [
    "conda activate hellodjango2"
   ]
  },
  {
   "cell_type": "code",
   "execution_count": 3,
   "id": "ca661525",
   "metadata": {},
   "outputs": [
    {
     "name": "stdout",
     "output_type": "stream",
     "text": [
      "Requirement already satisfied: django in /home/mcc/anaconda3/lib/python3.8/site-packages (3.2.4)\n",
      "Requirement already satisfied: sqlparse>=0.2.2 in /home/mcc/anaconda3/lib/python3.8/site-packages (from django) (0.4.1)\n",
      "Requirement already satisfied: pytz in /home/mcc/anaconda3/lib/python3.8/site-packages (from django) (2021.1)\n",
      "Requirement already satisfied: asgiref<4,>=3.3.2 in /home/mcc/anaconda3/lib/python3.8/site-packages (from django) (3.3.4)\n",
      "Note: you may need to restart the kernel to use updated packages.\n"
     ]
    }
   ],
   "source": [
    "pip install django"
   ]
  },
  {
   "cell_type": "code",
   "execution_count": 3,
   "id": "4c837a92",
   "metadata": {},
   "outputs": [
    {
     "name": "stdout",
     "output_type": "stream",
     "text": [
      "Requirement already satisfied: django-admin in /home/mcc/anaconda3/lib/python3.8/site-packages (2.0.1)\n",
      "Requirement already satisfied: django-excel-response2>=3.0.0 in /home/mcc/anaconda3/lib/python3.8/site-packages (from django-admin) (3.0.2)\n",
      "Requirement already satisfied: django-six>=1.0.4 in /home/mcc/anaconda3/lib/python3.8/site-packages (from django-excel-response2>=3.0.0->django-admin) (1.0.4)\n",
      "Requirement already satisfied: django-excel-base>=1.0.4 in /home/mcc/anaconda3/lib/python3.8/site-packages (from django-excel-response2>=3.0.0->django-admin) (1.0.4)\n",
      "Requirement already satisfied: screen in /home/mcc/anaconda3/lib/python3.8/site-packages (from django-excel-base>=1.0.4->django-excel-response2>=3.0.0->django-admin) (1.0.1)\n",
      "Requirement already satisfied: xlwt in /home/mcc/anaconda3/lib/python3.8/site-packages (from django-excel-base>=1.0.4->django-excel-response2>=3.0.0->django-admin) (1.3.0)\n",
      "Requirement already satisfied: pytz in /home/mcc/anaconda3/lib/python3.8/site-packages (from django-excel-base>=1.0.4->django-excel-response2>=3.0.0->django-admin) (2021.1)\n",
      "Note: you may need to restart the kernel to use updated packages.\n"
     ]
    }
   ],
   "source": [
    "pip install django-admin"
   ]
  },
  {
   "cell_type": "code",
   "execution_count": 5,
   "id": "b034f487",
   "metadata": {},
   "outputs": [
    {
     "ename": "SyntaxError",
     "evalue": "invalid syntax (<ipython-input-5-5c05995b3626>, line 1)",
     "output_type": "error",
     "traceback": [
      "\u001b[0;36m  File \u001b[0;32m\"<ipython-input-5-5c05995b3626>\"\u001b[0;36m, line \u001b[0;32m1\u001b[0m\n\u001b[0;31m    django-admin startproject hellodjango2\u001b[0m\n\u001b[0m                 ^\u001b[0m\n\u001b[0;31mSyntaxError\u001b[0m\u001b[0;31m:\u001b[0m invalid syntax\n"
     ]
    }
   ],
   "source": [
    "django-admin startproject hellodjango2"
   ]
  },
  {
   "cell_type": "code",
   "execution_count": null,
   "id": "f56ff9a2",
   "metadata": {},
   "outputs": [],
   "source": []
  }
 ],
 "metadata": {
  "kernelspec": {
   "display_name": "Python 3",
   "language": "python",
   "name": "python3"
  },
  "language_info": {
   "codemirror_mode": {
    "name": "ipython",
    "version": 3
   },
   "file_extension": ".py",
   "mimetype": "text/x-python",
   "name": "python",
   "nbconvert_exporter": "python",
   "pygments_lexer": "ipython3",
   "version": "3.8.8"
  }
 },
 "nbformat": 4,
 "nbformat_minor": 5
}
