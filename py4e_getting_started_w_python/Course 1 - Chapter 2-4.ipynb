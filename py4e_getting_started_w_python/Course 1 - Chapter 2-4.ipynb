{
 "cells": [
  {
   "cell_type": "markdown",
   "id": "b7924225",
   "metadata": {},
   "source": [
    "## Exercise 2.2 \n",
    "\n",
    "- Write a program that uses input to prompt a user for their name and then welcomes them. \n",
    "- Note that input will pop up a dialog box. \n",
    "- Enter Sarah in the pop-up box when you are prompted so your output will match the desired output."
   ]
  },
  {
   "cell_type": "code",
   "execution_count": 3,
   "id": "3e8adaa7",
   "metadata": {},
   "outputs": [
    {
     "name": "stdout",
     "output_type": "stream",
     "text": [
      "Enter your nameSarah\n",
      "Hello Sarah\n"
     ]
    }
   ],
   "source": [
    "# The code below almost works\n",
    "\n",
    "name = input(\"Enter your name\")\n",
    "print('Hello', name)"
   ]
  },
  {
   "cell_type": "markdown",
   "id": "f6b8ac16",
   "metadata": {},
   "source": [
    "## Exercise 2.3 \n",
    "\n",
    "- Write a program to prompt the user for hours and rate per hour using input to compute gross pay. \n",
    "- Use 35 hours and a rate of 2.75 per hour to test the program (the pay should be 96.25). \n",
    "- You should use input to read a string and float() to convert the string to a number. \n",
    "- Do not worry about error checking or bad user data."
   ]
  },
  {
   "cell_type": "code",
   "execution_count": 5,
   "id": "139bf56e",
   "metadata": {},
   "outputs": [
    {
     "name": "stdout",
     "output_type": "stream",
     "text": [
      "Enter Hours:35\n",
      "Enter Rate:2.75\n",
      "Pay: 96.25\n"
     ]
    }
   ],
   "source": [
    "hrs = input(\"Enter Hours:\")\n",
    "rate = input(\"Enter Rate:\")\n",
    "h = float(hrs)\n",
    "r = float(rate)\n",
    "gross_pay = h * r\n",
    "print('Pay:', gross_pay)"
   ]
  },
  {
   "cell_type": "code",
   "execution_count": null,
   "id": "eb3d9f6e",
   "metadata": {},
   "outputs": [],
   "source": [
    "x = 5\n",
    "if  x == 5 :\n",
    "    print('Is 5')\n",
    "    print('Is Still 5')\n",
    "    print('Third 5')"
   ]
  },
  {
   "cell_type": "code",
   "execution_count": 2,
   "id": "0d2dc550",
   "metadata": {},
   "outputs": [
    {
     "name": "stdout",
     "output_type": "stream",
     "text": [
      "Is 6\n",
      "Is Still 6\n",
      "Third 6\n"
     ]
    }
   ],
   "source": [
    "x = 6\n",
    "if x == 6 :\n",
    "    print('Is 6')\n",
    "    print('Is Still 6')\n",
    "    print('Third 6')"
   ]
  },
  {
   "cell_type": "code",
   "execution_count": 3,
   "id": "84a07f95",
   "metadata": {},
   "outputs": [
    {
     "name": "stdout",
     "output_type": "stream",
     "text": [
      "Small\n",
      "All done\n"
     ]
    }
   ],
   "source": [
    "x = 0\n",
    "if x < 2 :\n",
    "    print('Small')\n",
    "elif x < 10 :\n",
    "    print('Medium')\n",
    "else :\n",
    "    print('LARGE')\n",
    "print('All done')"
   ]
  },
  {
   "cell_type": "code",
   "execution_count": 4,
   "id": "3a5776f8",
   "metadata": {},
   "outputs": [
    {
     "name": "stdout",
     "output_type": "stream",
     "text": [
      "Two or more\n"
     ]
    }
   ],
   "source": [
    "x = 2.0\n",
    "if x < 2 :\n",
    "    print('Below 2')\n",
    "elif x >= 2 :\n",
    "     print('Two or more')\n",
    "else :\n",
    "    print('Something else')"
   ]
  },
  {
   "cell_type": "code",
   "execution_count": 5,
   "id": "889e2c00",
   "metadata": {},
   "outputs": [
    {
     "ename": "ValueError",
     "evalue": "invalid literal for int() with base 10: 'Hello Bob'",
     "output_type": "error",
     "traceback": [
      "\u001b[0;31m---------------------------------------------------------------------------\u001b[0m",
      "\u001b[0;31mValueError\u001b[0m                                Traceback (most recent call last)",
      "\u001b[0;32m<ipython-input-5-a96d2ddd189b>\u001b[0m in \u001b[0;36m<module>\u001b[0;34m\u001b[0m\n\u001b[1;32m      1\u001b[0m \u001b[0mastr\u001b[0m \u001b[0;34m=\u001b[0m \u001b[0;34m'Hello Bob'\u001b[0m\u001b[0;34m\u001b[0m\u001b[0;34m\u001b[0m\u001b[0m\n\u001b[0;32m----> 2\u001b[0;31m \u001b[0mistr\u001b[0m \u001b[0;34m=\u001b[0m \u001b[0mint\u001b[0m\u001b[0;34m(\u001b[0m\u001b[0mastr\u001b[0m\u001b[0;34m)\u001b[0m\u001b[0;34m\u001b[0m\u001b[0;34m\u001b[0m\u001b[0m\n\u001b[0m\u001b[1;32m      3\u001b[0m \u001b[0mprint\u001b[0m\u001b[0;34m(\u001b[0m\u001b[0;34m'First'\u001b[0m\u001b[0;34m,\u001b[0m \u001b[0mistr\u001b[0m\u001b[0;34m)\u001b[0m\u001b[0;34m\u001b[0m\u001b[0;34m\u001b[0m\u001b[0m\n\u001b[1;32m      4\u001b[0m \u001b[0mastr\u001b[0m \u001b[0;34m=\u001b[0m \u001b[0;34m'123'\u001b[0m\u001b[0;34m\u001b[0m\u001b[0;34m\u001b[0m\u001b[0m\n\u001b[1;32m      5\u001b[0m \u001b[0mistr\u001b[0m \u001b[0;34m=\u001b[0m \u001b[0mint\u001b[0m\u001b[0;34m(\u001b[0m\u001b[0mastr\u001b[0m\u001b[0;34m)\u001b[0m\u001b[0;34m\u001b[0m\u001b[0;34m\u001b[0m\u001b[0m\n",
      "\u001b[0;31mValueError\u001b[0m: invalid literal for int() with base 10: 'Hello Bob'"
     ]
    }
   ],
   "source": [
    "astr = 'Hello Bob'\n",
    "istr = int(astr)\n",
    "print('First', istr)\n",
    "astr = '123'\n",
    "istr = int(astr)\n",
    "print('Second', istr)"
   ]
  },
  {
   "cell_type": "code",
   "execution_count": 6,
   "id": "971cfe91",
   "metadata": {},
   "outputs": [],
   "source": [
    "astr = 'Hello Bob'\n",
    "istr = 0\n",
    "try:\n",
    "    istr = int(astr)\n",
    "except:\n",
    "    istr = -1"
   ]
  },
  {
   "cell_type": "code",
   "execution_count": 7,
   "id": "421e9216",
   "metadata": {},
   "outputs": [
    {
     "data": {
      "text/plain": [
       "-1"
      ]
     },
     "execution_count": 7,
     "metadata": {},
     "output_type": "execute_result"
    }
   ],
   "source": [
    "istr"
   ]
  },
  {
   "cell_type": "code",
   "execution_count": null,
   "id": "798dabc8",
   "metadata": {},
   "outputs": [],
   "source": [
    "hrs = input(\"Enter Hours:\")\n",
    "h = float(hrs)\n",
    "rate = input(\"Enter Rate:\")\n",
    "r = float(rate)\n",
    "ot = 0\n",
    "if h > 40:\n",
    "    ot = h - 40  \n",
    "rate = 10.5\n",
    "total = (40 * r) + (ot * 1.5 * r)\n",
    "print(total)"
   ]
  },
  {
   "cell_type": "code",
   "execution_count": 1,
   "id": "932fec12",
   "metadata": {},
   "outputs": [
    {
     "name": "stdout",
     "output_type": "stream",
     "text": [
      "Enter Hours:45\n",
      "Enter Rate:10.5\n",
      "498.75\n"
     ]
    }
   ],
   "source": [
    "r = 0\n",
    "h = 0\n",
    "ot = 0\n",
    "\n",
    "hrs = input(\"Enter Hours:\")\n",
    "rate = input(\"Enter Rate:\")\n",
    "\n",
    "try:\n",
    "    r = float(rate)\n",
    "    h = float(hrs)\n",
    "except:\n",
    "    print(\"Error, please enter numeric inputs.\")\n",
    "    \n",
    "if h > 40:\n",
    "    ot = h - 40  \n",
    "total = (40 * r) + (ot * 1.5 * r)\n",
    "print(total)"
   ]
  },
  {
   "cell_type": "markdown",
   "id": "2e4fe1b2",
   "metadata": {},
   "source": [
    "## 3.3 \n",
    "\n",
    "- Write a program to prompt for a score between 0.0 and 1.0. \n",
    "- If the score is out of range, print an error. \n",
    "- If the score is between 0.0 and 1.0, print a grade using the following table:\n",
    "\n",
    "Score Grade"
   ]
  },
  {
   "cell_type": "code",
   "execution_count": 2,
   "id": "1f56d837",
   "metadata": {},
   "outputs": [
    {
     "name": "stdout",
     "output_type": "stream",
     "text": [
      "Enter Score: 0.85\n",
      "B\n"
     ]
    }
   ],
   "source": [
    "score = input(\"Enter Score: \")\n",
    "\n",
    "try:\n",
    "    xs = float(score)\n",
    "except:\n",
    "    print(\"Error, please enter numeric inputs.\")\n",
    "    \n",
    "if xs >= 0.9:\n",
    "  print(\"A\")\n",
    "elif xs >= 0.8:\n",
    "  print(\"B\")\n",
    "elif xs >= 0.7:\n",
    "  print(\"C\")\n",
    "elif xs >= 0.6:\n",
    "  print(\"D\")\n",
    "else:\n",
    "  print(\"F\")\n"
   ]
  },
  {
   "cell_type": "markdown",
   "id": "de854dc6",
   "metadata": {},
   "source": [
    "## 4.1 - Using Functions"
   ]
  },
  {
   "cell_type": "code",
   "execution_count": 3,
   "id": "d8f73f1e",
   "metadata": {},
   "outputs": [],
   "source": [
    "def func1():\n",
    "    print('Hello')\n",
    "    print('Goodbye')"
   ]
  },
  {
   "cell_type": "code",
   "execution_count": 4,
   "id": "f1f1806a",
   "metadata": {},
   "outputs": [
    {
     "name": "stdout",
     "output_type": "stream",
     "text": [
      "Hello\n",
      "Goodbye\n"
     ]
    }
   ],
   "source": [
    "func1()"
   ]
  },
  {
   "cell_type": "markdown",
   "id": "577cff0d",
   "metadata": {},
   "source": [
    "**Python Reserved Words**\n",
    "\n",
    "| A | B | C |\n",
    "|---|---|---|\n",
    "|False \t|def \t|if |\t\n",
    "|None \t|del \t|import|\t\n",
    "|True \t|elif \t|in|\n",
    "|and \t|else \t|is|\n",
    "|as \t|except \t|lambda|\n",
    "|assert \t|finally \t|nonlocal|\n",
    "|break \t|for \t|not|\n",
    "|class \t|from \t|or|\n",
    "|continue \t|global \t|pass|\n",
    "|raise |return |try|\n",
    "|while |with |yield|"
   ]
  },
  {
   "cell_type": "code",
   "execution_count": 5,
   "id": "f92ae9c2",
   "metadata": {},
   "outputs": [
    {
     "data": {
      "text/plain": [
       "'w'"
      ]
     },
     "execution_count": 5,
     "metadata": {},
     "output_type": "execute_result"
    }
   ],
   "source": [
    "big = max('Hello world')\n",
    "big"
   ]
  },
  {
   "cell_type": "code",
   "execution_count": 6,
   "id": "9b87c920",
   "metadata": {},
   "outputs": [
    {
     "data": {
      "text/plain": [
       "' '"
      ]
     },
     "execution_count": 6,
     "metadata": {},
     "output_type": "execute_result"
    }
   ],
   "source": [
    "small = min('Hello world')\n",
    "small"
   ]
  },
  {
   "cell_type": "code",
   "execution_count": 7,
   "id": "552f68ac",
   "metadata": {},
   "outputs": [
    {
     "data": {
      "text/plain": [
       "float"
      ]
     },
     "execution_count": 7,
     "metadata": {},
     "output_type": "execute_result"
    }
   ],
   "source": [
    "i = 42.0\n",
    "type(i)"
   ]
  },
  {
   "cell_type": "code",
   "execution_count": 8,
   "id": "7bd7254f",
   "metadata": {},
   "outputs": [],
   "source": [
    "# Sample function\n",
    "\n",
    "def greeting(lang):\n",
    "    if lang == 'es':\n",
    "        return('Hola')\n",
    "    elif lang == 'fr':\n",
    "        return('Bonjour')\n",
    "    else: \n",
    "        return('Hello')"
   ]
  },
  {
   "cell_type": "code",
   "execution_count": 9,
   "id": "506b45b9",
   "metadata": {},
   "outputs": [
    {
     "data": {
      "text/plain": [
       "'Hola'"
      ]
     },
     "execution_count": 9,
     "metadata": {},
     "output_type": "execute_result"
    }
   ],
   "source": [
    "greeting('es')"
   ]
  },
  {
   "cell_type": "code",
   "execution_count": 10,
   "id": "91339c5d",
   "metadata": {},
   "outputs": [
    {
     "data": {
      "text/plain": [
       "'Bonjour'"
      ]
     },
     "execution_count": 10,
     "metadata": {},
     "output_type": "execute_result"
    }
   ],
   "source": [
    "greeting('fr')"
   ]
  },
  {
   "cell_type": "code",
   "execution_count": 11,
   "id": "8c2df29f",
   "metadata": {},
   "outputs": [
    {
     "data": {
      "text/plain": [
       "'Hello'"
      ]
     },
     "execution_count": 11,
     "metadata": {},
     "output_type": "execute_result"
    }
   ],
   "source": [
    "greeting('')"
   ]
  },
  {
   "cell_type": "code",
   "execution_count": 12,
   "id": "d635bf90",
   "metadata": {},
   "outputs": [
    {
     "name": "stdout",
     "output_type": "stream",
     "text": [
      "Hola Juan \b!\n"
     ]
    }
   ],
   "source": [
    "# Example #2\n",
    "\n",
    "def greet():\n",
    "    return 'Hola'\n",
    "\n",
    "print(greeting('es'), \"Juan\",'\\b!')"
   ]
  },
  {
   "cell_type": "code",
   "execution_count": 13,
   "id": "dfcb5a43",
   "metadata": {},
   "outputs": [
    {
     "name": "stdout",
     "output_type": "stream",
     "text": [
      "Bonjour Michael\n"
     ]
    }
   ],
   "source": [
    "def greet(lang):\n",
    "    if lang == 'es':\n",
    "        return 'Hola'\n",
    "    elif lang == 'fr':\n",
    "        return 'Bonjour'\n",
    "    else:\n",
    "        return 'Hello'\n",
    "\n",
    "print(greet('fr'),'Michael')"
   ]
  },
  {
   "cell_type": "code",
   "execution_count": 14,
   "id": "90a0ada1",
   "metadata": {},
   "outputs": [
    {
     "name": "stdout",
     "output_type": "stream",
     "text": [
      "2\n"
     ]
    }
   ],
   "source": [
    "def addtwo(a, b):\n",
    "    added = a + b\n",
    "    return a\n",
    "\n",
    "x = addtwo(2, 7)\n",
    "print(x)"
   ]
  },
  {
   "cell_type": "markdown",
   "id": "32e74b35",
   "metadata": {},
   "source": [
    "## 4.6 \n",
    "\n",
    "1. Write a program to prompt the user for hours and rate per hour using input to compute gross pay. \n",
    "2. Pay should be the normal rate for hours up to 40 and time-and-a-half for the hourly rate for all hours worked above 40 hours. \n",
    "3. Put the logic to do the computation of pay in a function called computepay() and use the function to do the computation. \n",
    "4. The function should return a value. Use 45 hours and a rate of 10.50 per hour to test the program (the pay should be 498.75). \n",
    "5. You should use input to read a string and float() to convert the string to a number. \n",
    "6. Do not worry about error checking the user input unless you want to - you can assume the user types numbers properly. \n",
    "\n",
    "7. Do not name your variable sum or use the sum() function."
   ]
  },
  {
   "cell_type": "code",
   "execution_count": 15,
   "id": "0f4ceff7",
   "metadata": {},
   "outputs": [
    {
     "name": "stdout",
     "output_type": "stream",
     "text": [
      "Enter Hours:45\n",
      "Enter Rate:10.5\n",
      "Pay 498.75\n"
     ]
    }
   ],
   "source": [
    "def computepay(hrs, rate):\n",
    "    h = float(hrs)\n",
    "    r = float(rate)\n",
    "    ot = 0\n",
    "    if h > 40:\n",
    "        ot = h - 40  \n",
    "    total = (h * r) + (ot * 0.5 * r)\n",
    "    return total\n",
    "\n",
    "hrs = input(\"Enter Hours:\")\n",
    "\n",
    "rate = input(\"Enter Rate:\")\n",
    "\n",
    "p = computepay(hrs, rate)\n",
    "\n",
    "print(\"Pay\", p)"
   ]
  },
  {
   "cell_type": "code",
   "execution_count": null,
   "id": "7e3efaa0",
   "metadata": {},
   "outputs": [],
   "source": []
  }
 ],
 "metadata": {
  "kernelspec": {
   "display_name": "Python 3",
   "language": "python",
   "name": "python3"
  },
  "language_info": {
   "codemirror_mode": {
    "name": "ipython",
    "version": 3
   },
   "file_extension": ".py",
   "mimetype": "text/x-python",
   "name": "python",
   "nbconvert_exporter": "python",
   "pygments_lexer": "ipython3",
   "version": "3.8.8"
  }
 },
 "nbformat": 4,
 "nbformat_minor": 5
}
