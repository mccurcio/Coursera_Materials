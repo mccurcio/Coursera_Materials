{
 "cells": [
  {
   "cell_type": "markdown",
   "id": "aba4f4d9",
   "metadata": {},
   "source": [
    "## 5.1 - Loops and Iteration\n"
   ]
  },
  {
   "cell_type": "code",
   "execution_count": null,
   "id": "630f9b3d",
   "metadata": {},
   "outputs": [],
   "source": [
    "# While loops & Repeated Steps & Iteration variables\n",
    "\n",
    "n = 5\n",
    "while n > 0:\n",
    "    print(n)\n",
    "    n = n - 1\n",
    "print(n)\n",
    "print('Blastoff')"
   ]
  },
  {
   "cell_type": "code",
   "execution_count": null,
   "id": "c0ab69f9",
   "metadata": {},
   "outputs": [],
   "source": [
    "# Break out of a Loop\n",
    "\n",
    "while True:\n",
    "    line = input('> ')\n",
    "    if line == 'done':\n",
    "        break\n",
    "    print(line)\n",
    "print('Done!')    "
   ]
  },
  {
   "cell_type": "code",
   "execution_count": null,
   "id": "27c16eb2",
   "metadata": {},
   "outputs": [],
   "source": [
    "# Finishing an Iteration with the Continue Statement\n",
    "\n",
    "while True:\n",
    "    line = input('> ')\n",
    "    if line[0] == '#':\n",
    "        continue\n",
    "    if line == 'done':\n",
    "        break    \n",
    "    print(line)\n",
    "print('Done!')  "
   ]
  },
  {
   "cell_type": "markdown",
   "id": "8db82efa",
   "metadata": {},
   "source": [
    "## 5.2 - Definite Loops"
   ]
  },
  {
   "cell_type": "code",
   "execution_count": null,
   "id": "a3b12b6d",
   "metadata": {},
   "outputs": [],
   "source": [
    "# for construct\n",
    "\n",
    "for i in [5,4,3,2,1]:\n",
    "    print(i)\n",
    "print('Blastoff')"
   ]
  },
  {
   "cell_type": "code",
   "execution_count": null,
   "id": "3719050d",
   "metadata": {},
   "outputs": [],
   "source": [
    "friends = ['Joe', 'Bob', 'Mary']\n",
    "for friend in friends:\n",
    "    print('Happy New Year:', friend)\n",
    "print('Done!')"
   ]
  },
  {
   "cell_type": "markdown",
   "id": "ce4c3ad1",
   "metadata": {},
   "source": [
    "## 5.3 - Finding the Largest Value"
   ]
  },
  {
   "cell_type": "code",
   "execution_count": null,
   "id": "e6d1d1f4",
   "metadata": {},
   "outputs": [],
   "source": [
    "print('Before')\n",
    "for thing in [9, 23, 34, 1, 2, 13]:\n",
    "    print(thing)\n",
    "print('After')"
   ]
  },
  {
   "cell_type": "code",
   "execution_count": null,
   "id": "109cd232",
   "metadata": {},
   "outputs": [],
   "source": [
    "largest_so_far = -1\n",
    "print('Before',largest_so_far)\n",
    "for the_num in [9, 23, 34, 1, 52, 13]:\n",
    "    if the_num > largest_so_far:\n",
    "        largest_so_far = the_num\n",
    "    print(largest_so_far,  the_num)\n",
    "    \n",
    "print('After', largest_so_far)"
   ]
  },
  {
   "cell_type": "markdown",
   "id": "23054500",
   "metadata": {},
   "source": [
    "## 5.4 - Loop Idioms"
   ]
  },
  {
   "cell_type": "code",
   "execution_count": null,
   "id": "938e8ad3",
   "metadata": {},
   "outputs": [],
   "source": [
    "# Counting in a Loop\n",
    "\n",
    "bork = 0\n",
    "print('Before', bork)\n",
    "for thing in [9, 23, 34, 1, 52, 13]:\n",
    "    bork += 1\n",
    "    print(bork, thing)\n",
    "print('After', bork)"
   ]
  },
  {
   "cell_type": "code",
   "execution_count": null,
   "id": "3663babb",
   "metadata": {},
   "outputs": [],
   "source": [
    "# Summing in a Loop\n",
    "\n",
    "bork = 0\n",
    "print('Before', bork)\n",
    "for thing in [9, 23, 34, 1, 52, 13]:\n",
    "    bork = bork + thing\n",
    "    print(bork, thing)\n",
    "print('After', bork)"
   ]
  },
  {
   "cell_type": "code",
   "execution_count": null,
   "id": "ead3e098",
   "metadata": {},
   "outputs": [],
   "source": [
    "# Finding the average in a Loop\n",
    "\n",
    "count = 0\n",
    "sum = 0\n",
    "print('Count', 'Number', 'Sum')\n",
    "print('Before', count, sum)\n",
    "for value in [9, 23, 34, 1, 52, 13]:\n",
    "    count += 1\n",
    "    sum = sum + value\n",
    "    print(count, sum, value)\n",
    "print('After', count, 'numbers the sum =', sum, '& Average =', sum/count)"
   ]
  },
  {
   "cell_type": "code",
   "execution_count": null,
   "id": "69b54f71",
   "metadata": {},
   "outputs": [],
   "source": [
    "# Filtering in a Loop to meet some criteria\n",
    "\n",
    "print('Before')\n",
    "for value in [9, 23, 34, 1, 52, 13]:\n",
    "    if value > 20:\n",
    "        print('Large number', value)\n",
    "print('After')"
   ]
  },
  {
   "cell_type": "code",
   "execution_count": null,
   "id": "4a83e1b5",
   "metadata": {},
   "outputs": [],
   "source": [
    "# Search Using a Boolean Variable\n",
    "\n",
    "found = False\n",
    "print('Found =', found)\n",
    "\n",
    "for value in [9, 23, 34, 1, 52, 13]:\n",
    "    if value == 1:\n",
    "        found = True\n",
    "        #break ## break can be inserted to stop the loop\n",
    "    print(found, value)\n",
    "print('Found =', found)"
   ]
  },
  {
   "cell_type": "code",
   "execution_count": null,
   "id": "60e1f7d3",
   "metadata": {},
   "outputs": [],
   "source": [
    "# NOW Finding the SMALLEST value\n",
    "\n",
    "smallest_so_far = 100 ## Flag value\n",
    "print('Before',smallest_so_far)\n",
    "\n",
    "for the_num in [9, 23, 34, 1, 52, 13]:\n",
    "    if the_num < smallest_so_far:\n",
    "        smallest_so_far = the_num\n",
    "    print(smallest_so_far,  the_num)\n",
    "    \n",
    "print('After', smallest_so_far)"
   ]
  },
  {
   "cell_type": "code",
   "execution_count": null,
   "id": "b524518f",
   "metadata": {},
   "outputs": [],
   "source": [
    "# Introducing the NONE Concept and Variable\n",
    "# 'is' is stronger than '=='\n",
    "# See also 'is' and 'is not' Operators\n",
    "    \n",
    "smallest_so_far = None\n",
    "print('Before')\n",
    "\n",
    "for value in [9, 23, 34, 1, 52, 13]:\n",
    "    if smallest_so_far is None:\n",
    "        smallest_so_far = value\n",
    "    elif value < smallest_so_far:\n",
    "        smallest_so_far = value\n",
    "    print(smallest_so_far,  value)\n",
    "    \n",
    "print('Smallest', smallest_so_far)"
   ]
  },
  {
   "cell_type": "markdown",
   "id": "80637cde",
   "metadata": {},
   "source": [
    "## Chapter 5 Quiz"
   ]
  },
  {
   "cell_type": "code",
   "execution_count": null,
   "id": "84bc1151",
   "metadata": {},
   "outputs": [],
   "source": [
    "## This is an infinte loop\n",
    "## Do not run ;)\n",
    "n = 5\n",
    "while n > 0 :\n",
    "    print(n)\n",
    "print('All done')"
   ]
  },
  {
   "cell_type": "code",
   "execution_count": 1,
   "id": "1de5d81d",
   "metadata": {},
   "outputs": [
    {
     "name": "stdout",
     "output_type": "stream",
     "text": [
      "5\n"
     ]
    }
   ],
   "source": [
    "tot = 0 \n",
    "for i in [5, 4, 3, 2, 1] :\n",
    "    tot = tot + 1\n",
    "print(tot)"
   ]
  },
  {
   "cell_type": "code",
   "execution_count": 2,
   "id": "a77bd3e1",
   "metadata": {},
   "outputs": [
    {
     "name": "stdout",
     "output_type": "stream",
     "text": [
      "Happy New Year: Joseph\n",
      "Happy New Year: Glenn\n",
      "Happy New Year: Sally\n",
      "Done!\n"
     ]
    }
   ],
   "source": [
    "## Question 5\n",
    "# What is the iteration variable in the following Python code:\n",
    "    \n",
    "    friends = ['Joseph', 'Glenn', 'Sally']\n",
    "\n",
    "for friend in friends :\n",
    "     print('Happy New Year:',  friend)\n",
    "print('Done!')"
   ]
  },
  {
   "cell_type": "code",
   "execution_count": 3,
   "id": "be6918b5",
   "metadata": {},
   "outputs": [
    {
     "name": "stdout",
     "output_type": "stream",
     "text": [
      "After 154\n"
     ]
    }
   ],
   "source": [
    "zork = 0\n",
    "for thing in [9, 41, 12, 3, 74, 15] :\n",
    "    zork = zork + thing\n",
    "print('After', zork)"
   ]
  },
  {
   "cell_type": "code",
   "execution_count": 4,
   "id": "b5e24454",
   "metadata": {},
   "outputs": [
    {
     "name": "stdout",
     "output_type": "stream",
     "text": [
      "-1\n"
     ]
    }
   ],
   "source": [
    "smallest_so_far = -1\n",
    "for the_num in [9, 41, 12, 3, 74, 15] :\n",
    "   if the_num < smallest_so_far :\n",
    "      smallest_so_far = the_num\n",
    "print(smallest_so_far)"
   ]
  },
  {
   "cell_type": "code",
   "execution_count": null,
   "id": "cee276ed",
   "metadata": {},
   "outputs": [],
   "source": [
    "if smallest is None :\n",
    "     smallest = value"
   ]
  },
  {
   "cell_type": "code",
   "execution_count": 5,
   "id": "94bafa44",
   "metadata": {},
   "outputs": [
    {
     "name": "stdout",
     "output_type": "stream",
     "text": [
      "Dry off!\n"
     ]
    }
   ],
   "source": [
    "n = 0\n",
    "while n > 0 :\n",
    "    print('Lather')\n",
    "    print('Rinse')\n",
    "print('Dry off!')"
   ]
  },
  {
   "cell_type": "markdown",
   "id": "d332875c",
   "metadata": {},
   "source": [
    "## Worked Exercise: 5.1"
   ]
  },
  {
   "cell_type": "code",
   "execution_count": 2,
   "id": "3ca3f8fb",
   "metadata": {},
   "outputs": [
    {
     "name": "stdout",
     "output_type": "stream",
     "text": [
      "Enter a number: 5\n",
      "5.0\n",
      "Enter a number: 5\n",
      "5.0\n",
      "Enter a number: 6\n",
      "6.0\n",
      "Enter a number: done\n",
      "16.0 / 3 = 5.333333333333333\n"
     ]
    }
   ],
   "source": [
    "# print('five dot one')\n",
    "\n",
    "number = 0\n",
    "total = 0\n",
    "while True:\n",
    "    string_val = input('Enter a number: ')\n",
    "    if string_val == 'done':\n",
    "        break\n",
    "    try:\n",
    "        float_val = float(string_val)\n",
    "    except:\n",
    "        print('Invalid Input')\n",
    "    print(float_val)\n",
    "    number = number + 1\n",
    "    total = total + float_val\n",
    "    \n",
    "#print('Finis')\n",
    "print(total, '/', number, '=', total/number)"
   ]
  },
  {
   "cell_type": "code",
   "execution_count": 5,
   "id": "c4f8a497",
   "metadata": {},
   "outputs": [
    {
     "name": "stdout",
     "output_type": "stream",
     "text": [
      "Enter a number: 6\n",
      "Enter a number: 7\n",
      "Enter a number: dfd\n",
      "Invalid Input\n",
      "Enter a number: 4\n",
      "Enter a number: done\n",
      "17.0 / 3 = 5.666666666666667\n"
     ]
    }
   ],
   "source": [
    "number = 0\n",
    "total = 0\n",
    "while True:\n",
    "    string_val = input('Enter a number: ')\n",
    "    if string_val == 'done':\n",
    "        break\n",
    "    try:\n",
    "        float_val = float(string_val)\n",
    "    except:\n",
    "        print('Invalid Input')\n",
    "        continue\n",
    "    #print(float_val)\n",
    "    number = number + 1\n",
    "    total = total + float_val\n",
    "print(total, '/', number, '=', total/number)"
   ]
  },
  {
   "cell_type": "markdown",
   "id": "e1b6af9f",
   "metadata": {},
   "source": [
    "## Exercise 5.2 \n",
    "\n",
    "1. Write a program that repeatedly prompts a user for integer numbers until the user enters 'done'. \n",
    "2. Once 'done' is entered, print out the largest and smallest of the numbers. \n",
    "3. If the user enters anything other than a valid number catch it with a try/except and put out an appropriate message and ignore the number. \n",
    "4. Enter 7, 2, bob, 10, and 4 and match the output below."
   ]
  },
  {
   "cell_type": "code",
   "execution_count": null,
   "id": "8105ea70",
   "metadata": {},
   "outputs": [],
   "source": [
    "# Starting Point\n",
    "# DO NOT CHANGE\n",
    "\n",
    "largest = None\n",
    "smallest = None\n",
    "while True:\n",
    "    num = input(\"Enter a number: \")\n",
    "    if num == \"done\":\n",
    "        break\n",
    "    print(num)\n",
    "\n",
    "print(\"Maximum\", largest)"
   ]
  },
  {
   "cell_type": "code",
   "execution_count": 5,
   "id": "8a86cb0a",
   "metadata": {},
   "outputs": [
    {
     "name": "stdout",
     "output_type": "stream",
     "text": [
      "Enter a number: 7\n",
      "Enter a number: 2\n",
      "Enter a number: bob\n",
      "Invalid input\n",
      "Enter a number: 10\n",
      "Enter a number: 4\n",
      "Enter a number: done\n",
      "Maximum is 10\n",
      "Minimum is 2\n"
     ]
    }
   ],
   "source": [
    "largest = None\n",
    "smallest = None\n",
    "\n",
    "while True:\n",
    "    string_val = input(\"Enter a number: \")\n",
    "    if string_val == 'done':\n",
    "        break\n",
    "    try:\n",
    "        int_val = int(string_val)\n",
    "    except:\n",
    "        print('Invalid input')\n",
    "        continue\n",
    "    \n",
    "    if smallest is None:\n",
    "        smallest = int_val\n",
    "    elif int_val < smallest:\n",
    "        smallest = int_val\n",
    "    \n",
    "    if largest is None:\n",
    "        largest = int_val\n",
    "    elif int_val > largest:\n",
    "        largest = int_val\n",
    "    # finish while loop\n",
    "    \n",
    "print(\"Maximum is\", largest)\n",
    "print(\"Minimum is\", smallest)"
   ]
  },
  {
   "cell_type": "code",
   "execution_count": null,
   "id": "bef575f2",
   "metadata": {},
   "outputs": [],
   "source": []
  },
  {
   "cell_type": "code",
   "execution_count": null,
   "id": "e5694acd",
   "metadata": {},
   "outputs": [],
   "source": []
  }
 ],
 "metadata": {
  "kernelspec": {
   "display_name": "Python 3",
   "language": "python",
   "name": "python3"
  },
  "language_info": {
   "codemirror_mode": {
    "name": "ipython",
    "version": 3
   },
   "file_extension": ".py",
   "mimetype": "text/x-python",
   "name": "python",
   "nbconvert_exporter": "python",
   "pygments_lexer": "ipython3",
   "version": "3.8.8"
  }
 },
 "nbformat": 4,
 "nbformat_minor": 5
}
